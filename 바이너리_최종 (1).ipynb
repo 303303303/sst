{
 "cells": [
  {
   "cell_type": "code",
   "execution_count": null,
   "metadata": {},
   "outputs": [],
   "source": [
    "# 라이브러리 불러오기\n",
    "import pandas as pd\n",
    "import numpy as np"
   ]
  },
  {
   "cell_type": "code",
   "execution_count": null,
   "metadata": {},
   "outputs": [],
   "source": [
    "# 데이터 불러오기\n",
    "df = pd.read_csv('/Users/jeong-yula/Desktop/streamlit/채용공고 통합 - 전처리 통합.csv')\n",
    "\n",
    "df.head(3)"
   ]
  },
  {
   "cell_type": "code",
   "execution_count": null,
   "metadata": {},
   "outputs": [],
   "source": [
    "df['Tool'].unique()"
   ]
  },
  {
   "cell_type": "code",
   "execution_count": 75,
   "metadata": {},
   "outputs": [],
   "source": [
    "df['Tool'] = df['Tool'].str.lower().str.strip()"
   ]
  },
  {
   "cell_type": "code",
   "execution_count": 76,
   "metadata": {},
   "outputs": [],
   "source": [
    "df.to_csv('tool1.csv')"
   ]
  },
  {
   "cell_type": "code",
   "execution_count": 49,
   "metadata": {},
   "outputs": [],
   "source": [
    "df1=pd.read_csv('/Users/jeong-yula/Desktop/streamlit/전처리통합최종.csv')"
   ]
  },
  {
   "cell_type": "code",
   "execution_count": null,
   "metadata": {},
   "outputs": [],
   "source": []
  },
  {
   "cell_type": "code",
   "execution_count": 51,
   "metadata": {},
   "outputs": [
    {
     "data": {
      "text/plain": [
       "Index(['Unnamed: 0', '사이트', '검색 키워드', '기업이름', '포지션이름', '포지션이름 전처리', '포지션 세부 ',\n",
       "       '마감일', '상시 채용 여부', '경력_min',\n",
       "       ...\n",
       "       'Python plus', 'R plus', '시각화 툴 plus', '로그분석 plus', 'BigData plus',\n",
       "       'Cloud plus', 'database plus', '개발 plus', 'MLTool plus', 'DLTool plus'],\n",
       "      dtype='object', length=141)"
      ]
     },
     "execution_count": 51,
     "metadata": {},
     "output_type": "execute_result"
    }
   ],
   "source": [
    "df1.columns"
   ]
  },
  {
   "cell_type": "code",
   "execution_count": 79,
   "metadata": {},
   "outputs": [],
   "source": [
    "df4=df1[['기업이름','총점', '복지 및 급여', '업무와 삶의 균형', '사내문화', '승진 기회']]"
   ]
  },
  {
   "cell_type": "code",
   "execution_count": 80,
   "metadata": {},
   "outputs": [
    {
     "data": {
      "text/html": [
       "<div>\n",
       "<style scoped>\n",
       "    .dataframe tbody tr th:only-of-type {\n",
       "        vertical-align: middle;\n",
       "    }\n",
       "\n",
       "    .dataframe tbody tr th {\n",
       "        vertical-align: top;\n",
       "    }\n",
       "\n",
       "    .dataframe thead th {\n",
       "        text-align: right;\n",
       "    }\n",
       "</style>\n",
       "<table border=\"1\" class=\"dataframe\">\n",
       "  <thead>\n",
       "    <tr style=\"text-align: right;\">\n",
       "      <th></th>\n",
       "      <th>기업이름</th>\n",
       "      <th>총점</th>\n",
       "      <th>복지 및 급여</th>\n",
       "      <th>업무와 삶의 균형</th>\n",
       "      <th>사내문화</th>\n",
       "      <th>승진 기회</th>\n",
       "    </tr>\n",
       "  </thead>\n",
       "  <tbody>\n",
       "    <tr>\n",
       "      <th>0</th>\n",
       "      <td>제네시스랩</td>\n",
       "      <td>3.6</td>\n",
       "      <td>3.3</td>\n",
       "      <td>4.1</td>\n",
       "      <td>3.6</td>\n",
       "      <td>3.2</td>\n",
       "    </tr>\n",
       "    <tr>\n",
       "      <th>1</th>\n",
       "      <td>에어프레미아랩스</td>\n",
       "      <td>999.0</td>\n",
       "      <td>999.0</td>\n",
       "      <td>999.0</td>\n",
       "      <td>999.0</td>\n",
       "      <td>999.0</td>\n",
       "    </tr>\n",
       "    <tr>\n",
       "      <th>2</th>\n",
       "      <td>매드업</td>\n",
       "      <td>3.3</td>\n",
       "      <td>3.4</td>\n",
       "      <td>2.2</td>\n",
       "      <td>3.4</td>\n",
       "      <td>3.6</td>\n",
       "    </tr>\n",
       "    <tr>\n",
       "      <th>3</th>\n",
       "      <td>이글루코퍼레이션</td>\n",
       "      <td>2.7</td>\n",
       "      <td>2.2</td>\n",
       "      <td>2.8</td>\n",
       "      <td>2.5</td>\n",
       "      <td>2.7</td>\n",
       "    </tr>\n",
       "    <tr>\n",
       "      <th>4</th>\n",
       "      <td>빗썸코리아</td>\n",
       "      <td>3.2</td>\n",
       "      <td>4.0</td>\n",
       "      <td>2.8</td>\n",
       "      <td>2.7</td>\n",
       "      <td>3.2</td>\n",
       "    </tr>\n",
       "    <tr>\n",
       "      <th>...</th>\n",
       "      <td>...</td>\n",
       "      <td>...</td>\n",
       "      <td>...</td>\n",
       "      <td>...</td>\n",
       "      <td>...</td>\n",
       "      <td>...</td>\n",
       "    </tr>\n",
       "    <tr>\n",
       "      <th>230</th>\n",
       "      <td>현대자동차</td>\n",
       "      <td>999.0</td>\n",
       "      <td>999.0</td>\n",
       "      <td>999.0</td>\n",
       "      <td>999.0</td>\n",
       "      <td>999.0</td>\n",
       "    </tr>\n",
       "    <tr>\n",
       "      <th>231</th>\n",
       "      <td>QuantumBlack, AI by McKinsey</td>\n",
       "      <td>999.0</td>\n",
       "      <td>999.0</td>\n",
       "      <td>999.0</td>\n",
       "      <td>999.0</td>\n",
       "      <td>999.0</td>\n",
       "    </tr>\n",
       "    <tr>\n",
       "      <th>232</th>\n",
       "      <td>Boeing</td>\n",
       "      <td>999.0</td>\n",
       "      <td>999.0</td>\n",
       "      <td>999.0</td>\n",
       "      <td>999.0</td>\n",
       "      <td>999.0</td>\n",
       "    </tr>\n",
       "    <tr>\n",
       "      <th>233</th>\n",
       "      <td>Viva Republica (Toss)</td>\n",
       "      <td>3.6</td>\n",
       "      <td>4.2</td>\n",
       "      <td>2.3</td>\n",
       "      <td>3.4</td>\n",
       "      <td>3.4</td>\n",
       "    </tr>\n",
       "    <tr>\n",
       "      <th>234</th>\n",
       "      <td>Toss Bank(토스뱅크)</td>\n",
       "      <td>3.5</td>\n",
       "      <td>3.9</td>\n",
       "      <td>2.3</td>\n",
       "      <td>3.0</td>\n",
       "      <td>3.0</td>\n",
       "    </tr>\n",
       "  </tbody>\n",
       "</table>\n",
       "<p>235 rows × 6 columns</p>\n",
       "</div>"
      ],
      "text/plain": [
       "                             기업이름     총점  복지 및 급여  업무와 삶의 균형   사내문화  승진 기회\n",
       "0                           제네시스랩    3.6      3.3        4.1    3.6    3.2\n",
       "1                        에어프레미아랩스  999.0    999.0      999.0  999.0  999.0\n",
       "2                             매드업    3.3      3.4        2.2    3.4    3.6\n",
       "3                        이글루코퍼레이션    2.7      2.2        2.8    2.5    2.7\n",
       "4                           빗썸코리아    3.2      4.0        2.8    2.7    3.2\n",
       "..                            ...    ...      ...        ...    ...    ...\n",
       "230                         현대자동차  999.0    999.0      999.0  999.0  999.0\n",
       "231  QuantumBlack, AI by McKinsey  999.0    999.0      999.0  999.0  999.0\n",
       "232                        Boeing  999.0    999.0      999.0  999.0  999.0\n",
       "233         Viva Republica (Toss)    3.6      4.2        2.3    3.4    3.4\n",
       "234               Toss Bank(토스뱅크)    3.5      3.9        2.3    3.0    3.0\n",
       "\n",
       "[235 rows x 6 columns]"
      ]
     },
     "execution_count": 80,
     "metadata": {},
     "output_type": "execute_result"
    }
   ],
   "source": [
    "df4"
   ]
  },
  {
   "cell_type": "code",
   "execution_count": null,
   "metadata": {},
   "outputs": [],
   "source": [
    "tt=pd.read_csv('/Users/jeong-yula/Desktop/streamlit/tool1.csv')\n",
    "tt['Tool'] = tt['Tool'].str.lower().str.strip()\n",
    "tt.head()"
   ]
  },
  {
   "cell_type": "code",
   "execution_count": 84,
   "metadata": {},
   "outputs": [],
   "source": [
    "tt.to_csv('tool2.csv')"
   ]
  },
  {
   "cell_type": "code",
   "execution_count": 85,
   "metadata": {},
   "outputs": [
    {
     "name": "stdout",
     "output_type": "stream",
     "text": [
      "['Unnamed: 0.1', 'Unnamed: 0', '사이트', '검색 키워드', '기업이름', '포지션이름', '포지션이름 전처리', '포지션 세부 ', '마감일', '상시 채용 여부', '경력_min', '경력_max', '학력', '학력 세부정보', '스킬', '제출서류', '채용절차', '채용형태', '채용형태_전처리', '채용형태_전처리 세부', '급여', '근무시간', '근무장소', '근무장소 시', '근무장소 구', '경기도 구 ', '근무형태', '주요업무', '인재상', '자격요건', 'Hard Skill', 'Soft Skill', 'Tool', '우대사항', 'hard plus', 'soft plus', 'tool plus', '복지', '기업소개', '표준산업분류', '주요사업', '주요사업.1', '산업군', '산업군 전처리', '설립', '사원 수', '기업 평균 연봉', '기업유형', '기업 유형 전처리', '기업 유형 전처리 _세부', '매출액', '접수방법', '총점', '복지 및 급여', '업무와 삶의 균형', '사내문화', '승진 기회', '경영진', '기업추천율', 'CEO 지지율', '성장 가능성', '하이라이트+태그', '퇴사', '입사', '링크']\n"
     ]
    }
   ],
   "source": [
    "print(tt.columns.to_list())\n"
   ]
  },
  {
   "cell_type": "code",
   "execution_count": 54,
   "metadata": {},
   "outputs": [],
   "source": [
    "selected_columns = ['DA plus', '통계 plus', 'ML plus', 'DL plus', '시각화 plus', '데이터 가공 plus', '빅데이터 plus', '파이프라인 plus', '그로스해킹 plus', '로그 plus', '마케팅 plus']\n",
    "df_selected = df1[selected_columns]"
   ]
  },
  {
   "cell_type": "code",
   "execution_count": 55,
   "metadata": {},
   "outputs": [],
   "source": [
    "df_selected.to_csv('hardplus.csv')"
   ]
  },
  {
   "cell_type": "code",
   "execution_count": null,
   "metadata": {},
   "outputs": [],
   "source": [
    "df.info()"
   ]
  },
  {
   "cell_type": "code",
   "execution_count": 56,
   "metadata": {},
   "outputs": [],
   "source": [
    "df2=pd.read_csv('/Users/jeong-yula/Desktop/streamlit/hardplus.csv')"
   ]
  },
  {
   "cell_type": "code",
   "execution_count": 57,
   "metadata": {},
   "outputs": [
    {
     "data": {
      "text/plain": [
       "Index(['Unnamed: 0', 'DA plus', '통계 plus', 'ML plus', 'DL plus', '시각화 plus',\n",
       "       '데이터 가공 plus', '빅데이터 plus', '파이프라인 plus', '그로스해킹 plus', '로그 plus',\n",
       "       '마케팅 plus'],\n",
       "      dtype='object')"
      ]
     },
     "execution_count": 57,
     "metadata": {},
     "output_type": "execute_result"
    }
   ],
   "source": [
    "df2.columns"
   ]
  },
  {
   "cell_type": "code",
   "execution_count": 66,
   "metadata": {},
   "outputs": [],
   "source": [
    "column_mapping = {\n",
    "    'DA plus': 'DA',\n",
    "    '통계 plus': '통계',\n",
    "    'ML plus': 'ML',\n",
    "    'DL plus': 'DL',\n",
    "    '시각화 plus': '시각화',\n",
    "    '데이터 가공 plus': '데이터 가공',\n",
    "    '빅데이터 plus': '빅데이터',\n",
    "    '클라우드 plus': '클라우드',\n",
    "    '파이프라인 plus': '파이프라인',\n",
    "    '그로스해킹 plus': '그로스해킹',\n",
    "    '로그 plus': '로그',\n",
    "    '마케팅 plus': '마케팅'\n",
    "}\n",
    "\n",
    "# 컬럼명을 변경합니다.\n",
    "df_renamed = df1.rename(columns=column_mapping)\n"
   ]
  },
  {
   "cell_type": "code",
   "execution_count": null,
   "metadata": {},
   "outputs": [],
   "source": [
    "df['Tool'].unique()"
   ]
  },
  {
   "cell_type": "code",
   "execution_count": 68,
   "metadata": {},
   "outputs": [
    {
     "name": "stdout",
     "output_type": "stream",
     "text": [
      "['Unnamed: 0', '사이트', '검색 키워드', '기업이름', '포지션이름', '포지션이름 전처리', '포지션 세부 ', '마감일', '상시 채용 여부', '경력_min', '경력_max', '학력', '학력 세부정보', '스킬', '제출서류', '채용절차', '채용형태', '채용형태_전처리', '채용형태_전처리 세부', '급여', '근무시간', '근무장소', '근무장소 시', '근무장소 구', '경기도 구 ', '근무형태', '주요업무', '인재상', '자격요건', 'Hard Skill', 'Soft Skill', 'Tool', '우대사항', 'hard plus', 'soft plus', 'tool plus', '복지', '기업소개', '표준산업분류', '주요사업', '주요사업.1', '산업군', '산업군 전처리', '설립', '사원 수', '기업 평균 연봉', '기업유형', '기업 유형 전처리', '기업 유형 전처리 _세부', '매출액', '접수방법', '총점', '복지 및 급여', '업무와 삶의 균형', '사내문화', '승진 기회', '경영진', '기업추천율', 'CEO 지지율', '성장 가능성', '하이라이트+태그', '퇴사', '입사', '링크', 'DA', '통계', 'ML', 'DL', '시각화', '데이터 가공', '빅데이터', '클라우드', '파이프라인', '그로스해킹', '로그', '마케팅', '도메인', '프로그래밍언어', '의사소통', '논리적/분석적 사고', '문제해결능력', '프로세스', '리더십', '책임감', '적극적', '의지/열정', '창의력', '비즈니스', '액션도출', 'Agile', '영어', '관심/경험', 'Tool1', 'SQL', 'Python', 'R', '시각화 툴', '로그분석', 'BigData', 'Cloud', 'database', '개발', 'MLtool', 'DLtool', 'DA', '통계', 'ML', 'DL', '시각화', '데이터 가공', '빅데이터', '파이프라인', '그로스해킹', '로그', '마케팅', '의사소통 plus', '리더십 plus', '문제해결능력 plus', 'Agile plus', '학력 plus', '창의력 plus', '적극적 plus', '논리적/분석적 사고 plus', '관심/경험 plus', '영어 plus', '전공', '공모전', '프로젝트 경험', '논문', 'tool plus1', 'SQL plus', 'Python plus', 'R plus', '시각화 툴 plus', '로그분석 plus', 'BigData plus', 'Cloud plus', 'database plus', '개발 plus', 'MLTool plus', 'DLTool plus']\n"
     ]
    }
   ],
   "source": [
    "print(df_renamed.columns.to_list())"
   ]
  },
  {
   "cell_type": "code",
   "execution_count": 70,
   "metadata": {},
   "outputs": [
    {
     "data": {
      "text/plain": [
       "array(['제조', '항공', '마케팅', '정보 보안', '금융', '채용', '응용 소프트웨어 개발', '컨설팅', '의료',\n",
       "       '에너지', '이커머스', '모빌리티', '엔터테인먼트', '유통', '건강', '가전', '패션', '정보 서비스업',\n",
       "       '게임', '여행', '애견', '교육', '배달', '식품', '물류', '출판', '투자', '통신', '부동산',\n",
       "       '없음', '리서치', '축산', '환경', '시스템 소프트웨어 개발', '스포츠', '화장품', '소셜 네트워크',\n",
       "       '클라우드 컴퓨팅'], dtype=object)"
      ]
     },
     "execution_count": 70,
     "metadata": {},
     "output_type": "execute_result"
    }
   ],
   "source": [
    "df['산업군 전처리'].unique()"
   ]
  },
  {
   "cell_type": "code",
   "execution_count": 65,
   "metadata": {},
   "outputs": [],
   "source": [
    "columns_to_drop = [ 'DA', '통계', 'ML', 'DL', '시각화', '데이터 가공', '빅데이터', '파이프라인', '그로스해킹', '로그', '마케팅']\n",
    "\n",
    "# 컬럼들을 삭제합니다.\n",
    "df_cleaned = df1.drop(columns=columns_to_drop)"
   ]
  },
  {
   "cell_type": "code",
   "execution_count": 67,
   "metadata": {},
   "outputs": [],
   "source": [
    "df_renamed.to_csv('hardplus.csv')"
   ]
  },
  {
   "cell_type": "code",
   "execution_count": null,
   "metadata": {},
   "outputs": [],
   "source": [
    "df.columns\n"
   ]
  },
  {
   "cell_type": "code",
   "execution_count": null,
   "metadata": {},
   "outputs": [],
   "source": [
    "df['학력'].value_counts()"
   ]
  },
  {
   "cell_type": "code",
   "execution_count": null,
   "metadata": {},
   "outputs": [],
   "source": [
    "# '999'를 '없음'으로 대체\n",
    "df.replace('999', '없음', inplace=True)"
   ]
  },
  {
   "cell_type": "markdown",
   "metadata": {},
   "source": [
    "HARD SKILL LABELING"
   ]
  },
  {
   "cell_type": "code",
   "execution_count": null,
   "metadata": {},
   "outputs": [],
   "source": [
    "df['Hard Skill']"
   ]
  },
  {
   "cell_type": "code",
   "execution_count": null,
   "metadata": {},
   "outputs": [],
   "source": [
    "# Hard Skill 열의 띄어쓰기 없애기\n",
    "df['Hard Skill'] = df['Hard Skill'].apply(lambda x: x.replace(' ', ''))\n",
    "\n",
    "# 결과 확인\n",
    "print(df['Hard Skill'])"
   ]
  },
  {
   "cell_type": "code",
   "execution_count": null,
   "metadata": {},
   "outputs": [],
   "source": [
    "# 각 행의 \"Hard Skill\" 열 값을 가져와서 쉼표로 분리하여 리스트로 만들기\n",
    "words_list = df['Hard Skill'].apply(lambda x: x.split(','))\n",
    "\n",
    "# 모든 리스트를 하나의 리스트로 합치기\n",
    "all_words = [word.strip() for sublist in words_list for word in sublist]\n",
    "\n",
    "# 고유한 단어 찾기\n",
    "unique_words = set(all_words)\n",
    "\n",
    "# 각 단어의 개수 세기\n",
    "word_counts = {word: all_words.count(word) for word in unique_words}\n",
    "\n",
    "# 단어의 개수를 기준으로 내림차순으로 정렬\n",
    "sorted_word_counts = sorted(word_counts.items(), key=lambda x: x[1], reverse=True)\n",
    "\n",
    "# 결과 출력\n",
    "for word, count in sorted_word_counts:\n",
    "    print(f\"{word}: {count}\")"
   ]
  },
  {
   "cell_type": "markdown",
   "metadata": {},
   "source": [
    "1. DA"
   ]
  },
  {
   "cell_type": "code",
   "execution_count": null,
   "metadata": {},
   "outputs": [],
   "source": [
    "# '데이터분석'이 포함된지 여부에 따라 1 또는 0을 값으로 갖는 'DA' 열 생성\n",
    "df['데이터 분석'] = df['Hard Skill'].apply(lambda x: 1 if '데이터분석' in x else 0)\n",
    "\n",
    "# 결과 확인\n",
    "# df.head(3)"
   ]
  },
  {
   "cell_type": "code",
   "execution_count": null,
   "metadata": {},
   "outputs": [],
   "source": [
    "# 'DA' 컬럼에서 1로 표기된 개수 세기\n",
    "da_count = df['데이터 분석'].sum()\n",
    "\n",
    "# 결과 출력\n",
    "print(\"DA 컬럼에 1로 표기된 개수:\", da_count)"
   ]
  },
  {
   "cell_type": "markdown",
   "metadata": {},
   "source": [
    "2. 통계"
   ]
  },
  {
   "cell_type": "code",
   "execution_count": null,
   "metadata": {},
   "outputs": [],
   "source": [
    "# '통계', '회귀', '로지스틱', '선형', '가설'이 포함된지 여부에 따라 1 또는 0을 값으로 갖는 '통계' 열 생성\n",
    "keywords = ['통계', '회귀', '로지스틱', '선형', '가설', '정량', '상관']\n",
    "df['통계적 지식'] = df['Hard Skill'].apply(lambda x: 1 if any(keyword in x for keyword in keywords) else 0)\n",
    "\n",
    "# 결과 확인\n",
    "df.head(3)"
   ]
  },
  {
   "cell_type": "code",
   "execution_count": null,
   "metadata": {},
   "outputs": [],
   "source": [
    "# '통계' 컬럼에서 1로 표기된 개수 세기\n",
    "sta_count = df['통계적 지식'].sum()\n",
    "\n",
    "# 결과 출력\n",
    "print(\"통계 컬럼에 1로 표기된 개수:\", sta_count)"
   ]
  },
  {
   "cell_type": "markdown",
   "metadata": {},
   "source": [
    "3. ML"
   ]
  },
  {
   "cell_type": "code",
   "execution_count": null,
   "metadata": {},
   "outputs": [],
   "source": [
    "# Hard Skill 열의 영어 단어를 모두 소문자로 변환\n",
    "df['Hard Skill'] = df['Hard Skill'].apply(lambda x: x.lower())\n",
    "\n",
    "# 'ML' 컬럼 생성\n",
    "keywords = ['머신러닝', '분류', '예측', '시계열', '클러스터링', 'classifica', 'clust', 'predict', 'feature', '부스팅', 'ml', '랜덤']\n",
    "df['머신러닝'] = df['Hard Skill'].apply(lambda x: 1 if any(keyword in x for keyword in keywords) else 0)\n",
    "\n",
    "# 결과 확인"
   ]
  },
  {
   "cell_type": "code",
   "execution_count": null,
   "metadata": {},
   "outputs": [],
   "source": [
    "# df.head(5)"
   ]
  },
  {
   "cell_type": "code",
   "execution_count": null,
   "metadata": {},
   "outputs": [],
   "source": [
    "# 'ML' 컬럼에서 1로 표기된 개수 세기\n",
    "df['머신러닝'].sum()"
   ]
  },
  {
   "cell_type": "markdown",
   "metadata": {},
   "source": [
    "4. DL"
   ]
  },
  {
   "cell_type": "code",
   "execution_count": null,
   "metadata": {},
   "outputs": [],
   "source": [
    "# Hard Skill 열의 영어 단어를 모두 소문자로 변환\n",
    "df['Hard Skill'] = df['Hard Skill'].apply(lambda x: x.lower())\n",
    "\n",
    "# 'DL' 컬럼 생성\n",
    "keywords = ['딥러닝', '알고리즘', '프레임워크', 'dl', 'recom', '차원', 'tree', '검색', '자연어', '추천', 'demen', '프롬프트', '텍스트', '영상', '이미지', '자연어']\n",
    "df['딥러닝'] = df['Hard Skill'].apply(lambda x: 1 if any(keyword in x for keyword in keywords) else 0)\n",
    "\n",
    "# 결과 확인\n",
    "# df.head(5)"
   ]
  },
  {
   "cell_type": "code",
   "execution_count": null,
   "metadata": {},
   "outputs": [],
   "source": [
    "df['딥러닝'].sum()"
   ]
  },
  {
   "cell_type": "code",
   "execution_count": null,
   "metadata": {},
   "outputs": [],
   "source": [
    "# df[df['Hard Skill'].str.contains('딥러닝')].head(5)"
   ]
  },
  {
   "cell_type": "markdown",
   "metadata": {},
   "source": [
    "5. 시각화"
   ]
  },
  {
   "cell_type": "code",
   "execution_count": null,
   "metadata": {},
   "outputs": [],
   "source": [
    "# '시각화' 컬럼 생성\n",
    "keywords = ['시각화', 'tableau', 'bi', '대시보드']\n",
    "df['데이터 시각화(대시보드)'] = df['Hard Skill'].apply(lambda x: 1 if any(keyword in x for keyword in keywords) else 0)\n",
    "\n",
    "# 결과 확인\n",
    "df['데이터 시각화(대시보드)'].sum()"
   ]
  },
  {
   "cell_type": "markdown",
   "metadata": {},
   "source": [
    "6. 데이터 가공"
   ]
  },
  {
   "cell_type": "code",
   "execution_count": null,
   "metadata": {},
   "outputs": [],
   "source": [
    "# '데이터 가공' 컬럼 생성\n",
    "keywords = ['전처리', '처리', '가공', '추출', '수집', 'eda']\n",
    "df['데이터 가공(전처리/추출/수집)'] = df['Hard Skill'].apply(lambda x: 1 if any(keyword in x for keyword in keywords) else 0)\n",
    "\n",
    "# 결과 확인\n",
    "df['데이터 가공(전처리/추출/수집)'].sum()"
   ]
  },
  {
   "cell_type": "code",
   "execution_count": null,
   "metadata": {},
   "outputs": [],
   "source": [
    "# df[df['데이터 가공'] == 1].head(5)"
   ]
  },
  {
   "cell_type": "code",
   "execution_count": null,
   "metadata": {},
   "outputs": [],
   "source": [
    "# 특정 단어가 포함된 단어의 개수 세기\n",
    "df['Hard Skill'].apply(lambda x: 1 if '데이터베이스' in x else 0).sum()"
   ]
  },
  {
   "cell_type": "markdown",
   "metadata": {},
   "source": [
    "7. 빅데이터"
   ]
  },
  {
   "cell_type": "code",
   "execution_count": null,
   "metadata": {},
   "outputs": [],
   "source": [
    "# '빅데이터' 컬럼 생성\n",
    "keywords = ['대용량', '빅데이터','대규모']\n",
    "df['대용량 데이터 처리'] = df['Hard Skill'].apply(lambda x: 1 if any(keyword in x for keyword in keywords) else 0)\n",
    "\n",
    "# 결과 확인\n",
    "df['대용량 데이터 처리'].sum()"
   ]
  },
  {
   "cell_type": "markdown",
   "metadata": {},
   "source": [
    "8. 클라우드 "
   ]
  },
  {
   "cell_type": "code",
   "execution_count": null,
   "metadata": {},
   "outputs": [],
   "source": [
    "# '클라우드' 컬럼 생성\n",
    "keywords = ['aws', 'ga4', 'ga', '클라우드', 'saas', 'bigquery']\n",
    "df['클라우드'] = df['Hard Skill'].apply(lambda x: 1 if any(keyword in x for keyword in keywords) else 0)\n",
    "\n",
    "# 결과 확인\n",
    "df['클라우드'].sum()"
   ]
  },
  {
   "cell_type": "code",
   "execution_count": null,
   "metadata": {},
   "outputs": [],
   "source": [
    "# df[df['클라우드'] == 1].head(5)"
   ]
  },
  {
   "cell_type": "code",
   "execution_count": null,
   "metadata": {},
   "outputs": [],
   "source": [
    "# 특정 단어가 포함된 단어의 개수 세기\n",
    "df['Hard Skill'].apply(lambda x: 1 if 'ga4' in x else 0).sum()"
   ]
  },
  {
   "cell_type": "markdown",
   "metadata": {},
   "source": [
    "9. 파이프라인"
   ]
  },
  {
   "cell_type": "code",
   "execution_count": null,
   "metadata": {},
   "outputs": [],
   "source": [
    "# '파이프라인' 컬럼 생성\n",
    "keywords = ['마트', '웨어하우스', '레이크', '파이프라인', '인프라', '품질', '데이터베이스']\n",
    "df['파이프라인'] = df['Hard Skill'].apply(lambda x: 1 if any(keyword in x for keyword in keywords) else 0)\n",
    "\n",
    "# 결과 확인\n",
    "df['파이프라인'].sum()"
   ]
  },
  {
   "cell_type": "markdown",
   "metadata": {},
   "source": [
    "10. 그로스해킹"
   ]
  },
  {
   "cell_type": "code",
   "execution_count": null,
   "metadata": {},
   "outputs": [],
   "source": [
    "# '그로스해킹' 컬럼 생성\n",
    "keywords = ['funnel', 'cohort', 'aarrr', 'ltv', 'clv', 'cltv', 'retention', 'a/b', '퍼널', '코호트', '그로스', '지표', '비즈니스']\n",
    "df['그로스해킹'] = df['Hard Skill'].apply(lambda x: 1 if any(keyword in x for keyword in keywords) else 0)\n",
    "\n",
    "# 결과 확인\n",
    "df['그로스해킹'].sum()"
   ]
  },
  {
   "cell_type": "code",
   "execution_count": null,
   "metadata": {},
   "outputs": [],
   "source": [
    "# 특정 단어가 포함된 단어의 개수 세기\n",
    "df['Hard Skill'].apply(lambda x: 1 if '리텐션' in x else 0).sum()"
   ]
  },
  {
   "cell_type": "code",
   "execution_count": null,
   "metadata": {},
   "outputs": [],
   "source": [
    "# df[df['그로스해킹'] == 1].head(5)"
   ]
  },
  {
   "cell_type": "markdown",
   "metadata": {},
   "source": [
    "11. 로그 : App/Web, 행동, 로그"
   ]
  },
  {
   "cell_type": "code",
   "execution_count": null,
   "metadata": {},
   "outputs": [],
   "source": [
    "# '로그' 컬럼 생성\n",
    "keywords = ['app/web', '사용자', '행동', '로그']\n",
    "df['로그'] = df['Hard Skill'].apply(lambda x: 1 if any(keyword in x for keyword in keywords) else 0)\n",
    "\n",
    "# 결과 확인\n",
    "df['로그'].sum()"
   ]
  },
  {
   "cell_type": "code",
   "execution_count": null,
   "metadata": {},
   "outputs": [],
   "source": [
    "# 특정 단어가 포함된 단어의 개수 세기\n",
    "df['Hard Skill'].apply(lambda x: 1 if '로그' in x else 0).sum()"
   ]
  },
  {
   "cell_type": "code",
   "execution_count": null,
   "metadata": {},
   "outputs": [],
   "source": [
    "# df[df['그로스해킹'] == 1].head(5)"
   ]
  },
  {
   "cell_type": "code",
   "execution_count": null,
   "metadata": {},
   "outputs": [],
   "source": [
    "# df[df['Hard Skill'].str.contains('로그')].head(5)"
   ]
  },
  {
   "cell_type": "markdown",
   "metadata": {},
   "source": [
    "12. 마케팅 : 마케팅, 프로덕트, PO, PM, 커머스, 비즈니스"
   ]
  },
  {
   "cell_type": "code",
   "execution_count": null,
   "metadata": {},
   "outputs": [],
   "source": [
    "# '마케팅' 컬럼 생성\n",
    "keywords = ['마케팅','프로덕트', '커머스', '비즈니스', '서비스']\n",
    "df['마케팅'] = df['Hard Skill'].apply(lambda x: 1 if any(keyword in x for keyword in keywords) else 0)\n",
    "\n",
    "# 결과 확인\n",
    "df['마케팅'].sum()"
   ]
  },
  {
   "cell_type": "code",
   "execution_count": null,
   "metadata": {},
   "outputs": [],
   "source": [
    "# 특정 단어가 포함된 단어의 개수 세기\n",
    "df['Hard Skill'].apply(lambda x: 1 if '서비스' in x else 0).sum()"
   ]
  },
  {
   "cell_type": "code",
   "execution_count": null,
   "metadata": {},
   "outputs": [],
   "source": [
    "df[df['마케팅'] == 1].head(5)"
   ]
  },
  {
   "cell_type": "markdown",
   "metadata": {},
   "source": [
    "13. 도메인 : 금융, 게임, 재무, 신용, CRM, 광고, 컨텐츠, 매출, 제품,유전,특허, 퍼포먼스, 교육, 고객. 리테일, 보험, 컨텐츠, 전자, 패션, 연구, 온라인, 공간, 제조, CS, 항공, HR, 제품, 인하우스"
   ]
  },
  {
   "cell_type": "code",
   "execution_count": null,
   "metadata": {},
   "outputs": [],
   "source": [
    "# '도메인' 컬럼 생성\n",
    "keywords = ['금융', '게임', '재무', '신용', 'CRM', '광고', '컨텐츠', '매출', '제품', '유전', '특허', '퍼포먼스', '교육', '고객', '리테일', '보험', '컨텐츠', '전자', '패션', '연구', '온라인', '공간', '제조', 'CS', '항공', 'HR', '제품', '인하우스']\n",
    "df['도메인'] = df['Hard Skill'].apply(lambda x: 1 if any(keyword in x for keyword in keywords) else 0)\n",
    "\n",
    "# 결과 확인\n",
    "df['도메인'].sum()"
   ]
  },
  {
   "cell_type": "code",
   "execution_count": null,
   "metadata": {},
   "outputs": [],
   "source": [
    "df[df['도메인'] == 1].head(5)"
   ]
  },
  {
   "cell_type": "markdown",
   "metadata": {},
   "source": [
    "14. 프로그래밍 언어 : SQL, Python, r, Java, tool, 프로그래밍"
   ]
  },
  {
   "cell_type": "code",
   "execution_count": null,
   "metadata": {},
   "outputs": [],
   "source": [
    "# '프로그래밍언어' 컬럼 생성\n",
    "keywords = ['sql', 'python', '프로그래밍', '툴']\n",
    "df['프로그래밍언어'] = df['Hard Skill'].apply(lambda x: 1 if any(keyword in x for keyword in keywords) else 0)\n",
    "\n",
    "# 결과 확인\n",
    "df['프로그래밍언어'].sum()"
   ]
  },
  {
   "cell_type": "code",
   "execution_count": null,
   "metadata": {},
   "outputs": [],
   "source": [
    "# 특정 단어가 포함된 단어의 개수 세기\n",
    "df['Hard Skill'].apply(lambda x: 1 if 'sql' in x else 0).sum()"
   ]
  },
  {
   "cell_type": "code",
   "execution_count": null,
   "metadata": {},
   "outputs": [],
   "source": [
    "# df[df['프로그래밍언어'] == 1].head(5)"
   ]
  },
  {
   "cell_type": "code",
   "execution_count": null,
   "metadata": {},
   "outputs": [],
   "source": [
    "df.info()"
   ]
  },
  {
   "cell_type": "markdown",
   "metadata": {},
   "source": [
    "Hard Skill 라벨링 확인"
   ]
  },
  {
   "cell_type": "code",
   "execution_count": null,
   "metadata": {},
   "outputs": [],
   "source": [
    "selected_columns = ['Unnamed: 0', '기업이름', '포지션이름', 'Hard Skill', 'DA', '통계', 'ML', 'DL', '데이터 가공', '파이프라인', '클라우드', '그로스해킹', '로그', '마케팅', '빅데이터', '도메인', '프로그래밍언어', '시각화']\n",
    "selected_df = df[selected_columns]\n",
    "selected_df\n"
   ]
  },
  {
   "cell_type": "markdown",
   "metadata": {},
   "source": [
    "그냥 해보는 코사인 유사도 "
   ]
  },
  {
   "cell_type": "code",
   "execution_count": null,
   "metadata": {},
   "outputs": [],
   "source": [
    "hard_skills = ['Unnamed: 0', 'DA', '통계', 'ML', 'DL', '데이터 가공', '파이프라인', '클라우드', '그로스해킹', '로그', '마케팅', '빅데이터', '도메인', '프로그래밍언어', '시각화']\n",
    "hardskill_df = df[hard_skills]\n",
    "hardskill_df"
   ]
  },
  {
   "cell_type": "code",
   "execution_count": null,
   "metadata": {},
   "outputs": [],
   "source": [
    "from sklearn.metrics.pairwise import cosine_similarity\n",
    "from sklearn.preprocessing import StandardScaler\n",
    "\n",
    "# 데이터 스케일링\n",
    "scaler = StandardScaler()\n",
    "scaled_df = scaler.fit_transform(hardskill_df.iloc[:, 1:])\n",
    "\n",
    "# 코사인 유사도 계산\n",
    "cosine_sim = cosine_similarity(scaled_df)\n",
    "\n",
    "# 결과 확인\n",
    "print(cosine_sim)"
   ]
  },
  {
   "cell_type": "code",
   "execution_count": null,
   "metadata": {},
   "outputs": [],
   "source": [
    "import numpy as np\n",
    "\n",
    "# 'Unnamed: 0' 컬럼의 인덱스\n",
    "index = 47\n",
    "\n",
    "# 가장 유사한 데이터의 인덱스 찾기\n",
    "similar_indices = np.argsort(cosine_sim[index])[::-1][1:6]  # 자기 자신을 제외한 가장 유사한 5개의 데이터 인덱스\n",
    "\n",
    "# 가장 유사한 데이터 출력\n",
    "similar_data = new_df.iloc[similar_indices]\n",
    "print(similar_data)\n"
   ]
  },
  {
   "cell_type": "code",
   "execution_count": null,
   "metadata": {},
   "outputs": [],
   "source": [
    "# 'Unnamed: 0' 컬럼의 인덱스\n",
    "index = 47\n",
    "\n",
    "# 가장 유사한 데이터의 인덱스 찾기\n",
    "similar_indices = np.argsort(cosine_sim[index])[::-1][1:6]  # 자기 자신을 제외한 가장 유사한 5개의 데이터 인덱스\n",
    "\n",
    "# 가장 유사한 데이터의 인덱스와 138번 데이터의 인덱스를 합쳐서 추출\n",
    "target_indices = similar_indices.tolist() + [index]\n",
    "\n",
    "# 추출된 인덱스를 사용하여 데이터프레임에서 데이터 추출\n",
    "similar_data = df.iloc[target_indices]\n",
    "similar_data\n"
   ]
  },
  {
   "cell_type": "markdown",
   "metadata": {},
   "source": [
    "Soft Skill"
   ]
  },
  {
   "cell_type": "code",
   "execution_count": null,
   "metadata": {},
   "outputs": [],
   "source": [
    "# Soft Skill 열의 띄어쓰기 없애기\n",
    "df['Soft Skill'] = df['Soft Skill'].apply(lambda x: x.replace(' ', ''))\n",
    "\n",
    "# 결과 확인\n",
    "print(df['Soft Skill'])"
   ]
  },
  {
   "cell_type": "code",
   "execution_count": null,
   "metadata": {},
   "outputs": [],
   "source": [
    "# 각 행의 \"Soft Skill\" 열 값을 가져와서 쉼표로 분리하여 리스트로 만들기\n",
    "soft_skills_list = df['Soft Skill'].apply(lambda x: x.split(','))\n",
    "\n",
    "# 모든 리스트를 하나의 리스트로 합치기\n",
    "all_soft_skills = [skill.strip() for sublist in soft_skills_list for skill in sublist]\n",
    "\n",
    "# 고유한 스킬 찾기\n",
    "unique_soft_skills = set(all_soft_skills)\n",
    "\n",
    "# 각 스킬의 개수 세기\n",
    "soft_skill_counts = {skill: all_soft_skills.count(skill) for skill in unique_soft_skills}\n",
    "\n",
    "# 스킬의 개수를 기준으로 내림차순으로 정렬\n",
    "sorted_soft_skill_counts = sorted(soft_skill_counts.items(), key=lambda x: x[1], reverse=True)\n",
    "\n",
    "# 결과 출력\n",
    "for skill, count in sorted_soft_skill_counts:\n",
    "    print(f\"{skill}: {count}\")\n"
   ]
  },
  {
   "cell_type": "code",
   "execution_count": null,
   "metadata": {},
   "outputs": [],
   "source": [
    "print(unique_soft_skills)"
   ]
  },
  {
   "cell_type": "code",
   "execution_count": null,
   "metadata": {},
   "outputs": [],
   "source": [
    "# Soft Skill 열의 영어 단어를 모두 소문자로 변환\n",
    "df['Soft Skill'] = df['Soft Skill'].apply(lambda x: x.lower())"
   ]
  },
  {
   "cell_type": "markdown",
   "metadata": {},
   "source": [
    "1. 의사소통 : 커뮤니케이션, 협업, 관계, 의사소통"
   ]
  },
  {
   "cell_type": "code",
   "execution_count": null,
   "metadata": {},
   "outputs": [],
   "source": [
    "# '의사소통' 컬럼 생성\n",
    "keywords = ['커뮤니케이션', '협업', '관계', '의사소통', '스토리']\n",
    "df['의사소통'] = df['Soft Skill'].apply(lambda x: 1 if any(keyword in x for keyword in keywords) else 0)\n",
    "\n",
    "# 결과 확인\n",
    "df['의사소통'].sum()"
   ]
  },
  {
   "cell_type": "code",
   "execution_count": null,
   "metadata": {},
   "outputs": [],
   "source": [
    "df[df['의사소통'] == 1].head(5)"
   ]
  },
  {
   "cell_type": "code",
   "execution_count": null,
   "metadata": {},
   "outputs": [],
   "source": [
    "# 특정 단어가 포함된 단어의 개수 세기\n",
    "df['Soft Skill'].apply(lambda x: 1 if '관계' in x else 0).sum()"
   ]
  },
  {
   "cell_type": "markdown",
   "metadata": {},
   "source": [
    "2. 논리적/분석적 사고 : 논리, 분석, 통계, 문해, 사고, 인과추론"
   ]
  },
  {
   "cell_type": "code",
   "execution_count": null,
   "metadata": {},
   "outputs": [],
   "source": [
    "# '논리적/분석적 사고' 컬럼 생성\n",
    "keywords = ['논리', '분석', '문해', '통게', '사고', '인과추론']\n",
    "df['논리적/분석적 사고'] = df['Soft Skill'].apply(lambda x: 1 if any(keyword in x for keyword in keywords) else 0)\n",
    "\n",
    "# 결과 확인\n",
    "df['논리적/분석적 사고'].sum()"
   ]
  },
  {
   "cell_type": "code",
   "execution_count": null,
   "metadata": {},
   "outputs": [],
   "source": [
    "df[df['논리적/분석적 사고'] == 1].head(5)"
   ]
  },
  {
   "cell_type": "code",
   "execution_count": null,
   "metadata": {},
   "outputs": [],
   "source": [
    "# 특정 단어가 포함된 단어의 개수 세기\n",
    "df['Soft Skill'].apply(lambda x: 1 if '사고' in x else 0).sum()"
   ]
  },
  {
   "cell_type": "markdown",
   "metadata": {},
   "source": [
    "3. 문제 해결 능력 : 문제해결"
   ]
  },
  {
   "cell_type": "code",
   "execution_count": null,
   "metadata": {},
   "outputs": [],
   "source": [
    "# '논리적/분석적 사고' 컬럼 생성\n",
    "keywords = ['해결']\n",
    "df['문제해결능력'] = df['Soft Skill'].apply(lambda x: 1 if any(keyword in x for keyword in keywords) else 0)\n",
    "\n",
    "# 결과 확인\n",
    "df['문제해결능력'].sum()"
   ]
  },
  {
   "cell_type": "code",
   "execution_count": null,
   "metadata": {},
   "outputs": [],
   "source": [
    "df[df['문제해결능력'] == 1].head(5)"
   ]
  },
  {
   "cell_type": "markdown",
   "metadata": {},
   "source": [
    "4. 프로세스 : 가설 수립, 가설 설정, 가설 검증, 문제정의, 결과 해석, 지표, 분석방법론"
   ]
  },
  {
   "cell_type": "code",
   "execution_count": null,
   "metadata": {},
   "outputs": [],
   "source": [
    "# '프로세스' 컬럼 생성\n",
    "keywords = ['가설', '정의', '결과해석', '지표', '방법론', '통찰']\n",
    "df['프로세스'] = df['Soft Skill'].apply(lambda x: 1 if any(keyword in x for keyword in keywords) else 0)\n",
    "\n",
    "# 결과 확인\n",
    "df['프로세스'].sum()"
   ]
  },
  {
   "cell_type": "code",
   "execution_count": null,
   "metadata": {},
   "outputs": [],
   "source": [
    "# 특정 단어가 포함된 단어의 개수 세기\n",
    "df['Soft Skill'].apply(lambda x: 1 if '가설' in x else 0).sum()"
   ]
  },
  {
   "cell_type": "code",
   "execution_count": null,
   "metadata": {},
   "outputs": [],
   "source": [
    "df[df['프로세스'] == 1].head(5)"
   ]
  },
  {
   "cell_type": "markdown",
   "metadata": {},
   "source": [
    "5. 리더십 : 팀 리딩, 프로젝트 리딩, 프로젝트 관리, 방향성, 의사결정능력, 빠른 판단력, 설득"
   ]
  },
  {
   "cell_type": "code",
   "execution_count": null,
   "metadata": {},
   "outputs": [],
   "source": [
    "# '리더십' 컬럼 생성\n",
    "keywords = ['리딩', '관리', '방향성', '의사결정','판단', '추진']\n",
    "df['리더십'] = df['Soft Skill'].apply(lambda x: 1 if any(keyword in x for keyword in keywords) else 0)\n",
    "\n",
    "# 결과 확인\n",
    "df['리더십'].sum()"
   ]
  },
  {
   "cell_type": "code",
   "execution_count": null,
   "metadata": {},
   "outputs": [],
   "source": [
    "df[df['리더십'] == 1].head(5)"
   ]
  },
  {
   "cell_type": "code",
   "execution_count": null,
   "metadata": {},
   "outputs": [],
   "source": [
    "# 특정 단어가 포함된 단어의 개수 세기\n",
    "df['Soft Skill'].apply(lambda x: 1 if '판단' in x else 0).sum()"
   ]
  },
  {
   "cell_type": "markdown",
   "metadata": {},
   "source": [
    "6. 책임감 : 꼼꼼, 디테일, 성과중심, 기한, 신뢰, 성실"
   ]
  },
  {
   "cell_type": "code",
   "execution_count": null,
   "metadata": {},
   "outputs": [],
   "source": [
    "# '책임감' 컬럼 생성\n",
    "keywords = ['꼼꼼', '디테일', '성과', '기한', '신뢰', '성실', '책임', '세밀']\n",
    "df['책임감'] = df['Soft Skill'].apply(lambda x: 1 if any(keyword in x for keyword in keywords) else 0)\n",
    "\n",
    "# 결과 확인\n",
    "df['책임감'].sum()"
   ]
  },
  {
   "cell_type": "code",
   "execution_count": null,
   "metadata": {},
   "outputs": [],
   "source": [
    "df[df['책임감'] == 1].head(5)"
   ]
  },
  {
   "cell_type": "code",
   "execution_count": null,
   "metadata": {},
   "outputs": [],
   "source": [
    "# 특정 단어가 포함된 단어의 개수 세기\n",
    "df['Soft Skill'].apply(lambda x: 1 if '책임' in x else 0).sum()"
   ]
  },
  {
   "cell_type": "markdown",
   "metadata": {},
   "source": [
    "7. 적극적 : 주도적, 적극, 전략, 자기주도, 동기부여, 독립"
   ]
  },
  {
   "cell_type": "code",
   "execution_count": null,
   "metadata": {},
   "outputs": [],
   "source": [
    "# '적극적' 컬럼 생성\n",
    "keywords = ['주도', '적극', '전략', '자기주도', '동기부여','독립', '우선', '설득']\n",
    "df['적극적'] = df['Soft Skill'].apply(lambda x: 1 if any(keyword in x for keyword in keywords) else 0)\n",
    "\n",
    "# 결과 확인\n",
    "df['적극적'].sum()"
   ]
  },
  {
   "cell_type": "code",
   "execution_count": null,
   "metadata": {},
   "outputs": [],
   "source": [
    "df[df['적극적'] == 1].head(5)"
   ]
  },
  {
   "cell_type": "code",
   "execution_count": null,
   "metadata": {},
   "outputs": [],
   "source": [
    "# 특정 단어가 포함된 단어의 개수 세기\n",
    "df['Soft Skill'].apply(lambda x: 1 if '아이디어' in x else 0).sum()"
   ]
  },
  {
   "cell_type": "markdown",
   "metadata": {},
   "source": [
    "8. 의지/열정 : 열정, 성장, 커리어, 학습"
   ]
  },
  {
   "cell_type": "code",
   "execution_count": null,
   "metadata": {},
   "outputs": [],
   "source": [
    "# '의지/열정' 컬럼 생성\n",
    "keywords = ['열정', '성장', '커리어', '학습', '호기심', '인과', '관심', '집요', '보람']\n",
    "df['의지/열정'] = df['Soft Skill'].apply(lambda x: 1 if any(keyword in x for keyword in keywords) else 0)\n",
    "\n",
    "# 결과 확인\n",
    "df['의지/열정'].sum()"
   ]
  },
  {
   "cell_type": "code",
   "execution_count": null,
   "metadata": {},
   "outputs": [],
   "source": [
    "df[df['의지/열정'] == 1].head(5)"
   ]
  },
  {
   "cell_type": "markdown",
   "metadata": {},
   "source": [
    "9. 창의력 : 창의, 능동, 유연, 혁신"
   ]
  },
  {
   "cell_type": "code",
   "execution_count": null,
   "metadata": {},
   "outputs": [],
   "source": [
    "# '창의력' 컬럼 생성\n",
    "keywords = ['창의','능동', '유연', '혁신']\n",
    "df['창의력'] = df['Soft Skill'].apply(lambda x: 1 if any(keyword in x for keyword in keywords) else 0)\n",
    "\n",
    "# 결과 확인\n",
    "df['창의력'].sum()"
   ]
  },
  {
   "cell_type": "code",
   "execution_count": null,
   "metadata": {},
   "outputs": [],
   "source": [
    "df[df['창의력'] == 1].head(5)"
   ]
  },
  {
   "cell_type": "code",
   "execution_count": null,
   "metadata": {},
   "outputs": [],
   "source": [
    "# 특정 단어가 포함된 단어의 개수 세기\n",
    "df['Soft Skill'].apply(lambda x: 1 if '창의' in x else 0).sum()"
   ]
  },
  {
   "cell_type": "markdown",
   "metadata": {},
   "source": [
    "10. 비즈니스 : 서비스리딩, 비즈니스, 개선, 프로덕트, 전략, 컨설팅"
   ]
  },
  {
   "cell_type": "code",
   "execution_count": null,
   "metadata": {},
   "outputs": [],
   "source": [
    "# '비즈니스' 컬럼 생성\n",
    "keywords = ['서비스', '비즈니스', '고객', '개선', '프로덕트', '전략', '컨설팅']\n",
    "df['비즈니스'] = df['Soft Skill'].apply(lambda x: 1 if any(keyword in x for keyword in keywords) else 0)\n",
    "\n",
    "# 결과 확인\n",
    "df['비즈니스'].sum()"
   ]
  },
  {
   "cell_type": "code",
   "execution_count": null,
   "metadata": {},
   "outputs": [],
   "source": [
    "# 특정 단어가 포함된 단어의 개수 세기\n",
    "df['Soft Skill'].apply(lambda x: 1 if '프로덕트' in x else 0).sum()"
   ]
  },
  {
   "cell_type": "code",
   "execution_count": null,
   "metadata": {},
   "outputs": [],
   "source": [
    "df[df['비즈니스'] == 1].head(5)"
   ]
  },
  {
   "cell_type": "markdown",
   "metadata": {},
   "source": [
    "11. 액션 도출 : 인사이트 도출, 액션 도출"
   ]
  },
  {
   "cell_type": "code",
   "execution_count": null,
   "metadata": {},
   "outputs": [],
   "source": [
    "# '액션도출' 컬럼 생성\n",
    "keywords = ['인사이트','액션', '도출']\n",
    "df['액션도출'] = df['Soft Skill'].apply(lambda x: 1 if any(keyword in x for keyword in keywords) else 0)\n",
    "\n",
    "# 결과 확인\n",
    "df['액션도출'].sum()"
   ]
  },
  {
   "cell_type": "code",
   "execution_count": null,
   "metadata": {},
   "outputs": [],
   "source": [
    "df[df['액션도출'] == 1].head(5)"
   ]
  },
  {
   "cell_type": "code",
   "execution_count": null,
   "metadata": {},
   "outputs": [],
   "source": [
    "# 특정 단어가 포함된 단어의 개수 세기\n",
    "df['Soft Skill'].apply(lambda x: 1 if '도출' in x else 0).sum()"
   ]
  },
  {
   "cell_type": "markdown",
   "metadata": {},
   "source": [
    "12. AGILE : agile, 빠른, 역동, 적응력"
   ]
  },
  {
   "cell_type": "code",
   "execution_count": null,
   "metadata": {},
   "outputs": [],
   "source": [
    "# 'Agile' 컬럼 생성\n",
    "keywords = ['agile', '빠른', '역동', '적응', '스타트업', '멀티']\n",
    "df['Agile'] = df['Soft Skill'].apply(lambda x: 1 if any(keyword in x for keyword in keywords) else 0)\n",
    "\n",
    "# 결과 확인\n",
    "df['Agile'].sum()"
   ]
  },
  {
   "cell_type": "code",
   "execution_count": null,
   "metadata": {},
   "outputs": [],
   "source": [
    "df[df['Agile'] == 1].head(5)"
   ]
  },
  {
   "cell_type": "code",
   "execution_count": null,
   "metadata": {},
   "outputs": [],
   "source": [
    "# 특정 단어가 포함된 단어의 개수 세기\n",
    "df['Soft Skill'].apply(lambda x: 1 if 'agile' in x else 0).sum()"
   ]
  },
  {
   "cell_type": "markdown",
   "metadata": {},
   "source": [
    "13. 영어 : 영어"
   ]
  },
  {
   "cell_type": "code",
   "execution_count": null,
   "metadata": {},
   "outputs": [],
   "source": [
    "# '영어' 컬럼 생성\n",
    "keywords = ['영어']\n",
    "df['영어'] = df['Soft Skill'].apply(lambda x: 1 if any(keyword in x for keyword in keywords) else 0)\n",
    "\n",
    "# 결과 확인\n",
    "df['영어'].sum()"
   ]
  },
  {
   "cell_type": "code",
   "execution_count": null,
   "metadata": {},
   "outputs": [],
   "source": [
    "df[df['영어'] == 1].head(5)"
   ]
  },
  {
   "cell_type": "code",
   "execution_count": null,
   "metadata": {},
   "outputs": [],
   "source": [
    "# 특정 단어가 포함된 단어의 개수 세기\n",
    "df['Soft Skill'].apply(lambda x: 1 if '논문' in x else 0).sum()"
   ]
  },
  {
   "cell_type": "markdown",
   "metadata": {},
   "source": [
    "14. 도메인 : 이해, 관심"
   ]
  },
  {
   "cell_type": "code",
   "execution_count": null,
   "metadata": {},
   "outputs": [],
   "source": [
    "# '관심/경험' 컬럼 생성\n",
    "keywords = ['이해', '관심', '경험']\n",
    "df['관심/경험'] = df['Soft Skill'].apply(lambda x: 1 if any(keyword in x for keyword in keywords) else 0)\n",
    "\n",
    "# 결과 확인\n",
    "df['관심/경험'].sum()"
   ]
  },
  {
   "cell_type": "code",
   "execution_count": null,
   "metadata": {},
   "outputs": [],
   "source": [
    "df[df['관심/경험'] == 1].head(5)"
   ]
  },
  {
   "cell_type": "code",
   "execution_count": null,
   "metadata": {},
   "outputs": [],
   "source": [
    "# 특정 단어가 포함된 단어의 개수 세기\n",
    "df['Soft Skill'].apply(lambda x: 1 if '경험' in x else 0).sum()"
   ]
  },
  {
   "cell_type": "markdown",
   "metadata": {},
   "source": [
    "15. 학력 : 석사, 석박, 박사, 학사, 학위"
   ]
  },
  {
   "cell_type": "code",
   "execution_count": null,
   "metadata": {},
   "outputs": [],
   "source": [
    "# '학력' 컬럼 생성\n",
    "keywords = ['석사', '박사', '학위', '석박', '학사']\n",
    "df['학력'] = df['Soft Skill'].apply(lambda x: 1 if any(keyword in x for keyword in keywords) else 0)\n",
    "\n",
    "# 결과 확인\n",
    "df['학력'].sum()"
   ]
  },
  {
   "cell_type": "markdown",
   "metadata": {},
   "source": [
    "Soft Skill 코사인 유사도"
   ]
  },
  {
   "cell_type": "code",
   "execution_count": null,
   "metadata": {},
   "outputs": [],
   "source": [
    "df.info()"
   ]
  },
  {
   "cell_type": "code",
   "execution_count": null,
   "metadata": {},
   "outputs": [],
   "source": [
    "selected_columns_soft_skill = ['Unnamed: 0', '의사소통', '논리적/분석적 사고', '문제해결능력', '프로세스', '리더십', '책임감', '적극적', \n",
    "                               '의지/열정', '창의력', '비즈니스', '액션도출', 'Agile', '영어', '관심/경험', '학력']\n",
    "\n",
    "selected_soft_skill = df[selected_columns_soft_skill]\n",
    "selected_soft_skill"
   ]
  },
  {
   "cell_type": "code",
   "execution_count": null,
   "metadata": {},
   "outputs": [],
   "source": [
    "from sklearn.metrics.pairwise import cosine_similarity\n",
    "from sklearn.preprocessing import StandardScaler\n",
    "\n",
    "# 데이터 스케일링\n",
    "scaler = StandardScaler()\n",
    "scaled_df = scaler.fit_transform(selected_soft_skill.iloc[:, 1:])\n",
    "\n",
    "# 코사인 유사도 계산\n",
    "cosine_sim = cosine_similarity(scaled_df)\n",
    "\n",
    "# 결과 확인\n",
    "print(cosine_sim)\n"
   ]
  },
  {
   "cell_type": "code",
   "execution_count": null,
   "metadata": {},
   "outputs": [],
   "source": [
    "# Unnamed: 0 컬럼의 인덱스 추출\n",
    "index_109 = selected_soft_skill[selected_soft_skill['Unnamed: 0'] == 109].index[0]\n",
    "\n",
    "# 코사인 유사도 배열에서 index_47 행의 유사도 추출\n",
    "cosine_sim_47 = cosine_sim[index_109]\n",
    "\n",
    "# 유사도를 기준으로 내림차순으로 정렬하여 상위 6개 인덱스 추출 (첫 번째는 자기 자신이므로 6개)\n",
    "similar_indices = cosine_sim_47.argsort()[:-6:-1]\n",
    "\n",
    "# 결과 출력\n",
    "print(similar_indices)\n"
   ]
  },
  {
   "cell_type": "code",
   "execution_count": null,
   "metadata": {},
   "outputs": [],
   "source": [
    "import numpy as np\n",
    "\n",
    "# 'Unnamed: 0' 컬럼의 인덱스\n",
    "index = 109\n",
    "\n",
    "# 가장 유사한 데이터의 인덱스 찾기\n",
    "similar_indices = np.argsort(cosine_sim[index])[::-1][1:6]  # 자기 자신을 제외한 가장 유사한 5개의 데이터 인덱스\n",
    "\n",
    "# 가장 유사한 데이터 출력\n",
    "similar_data = selected_soft_skill.iloc[similar_indices]\n",
    "print(similar_data)\n"
   ]
  },
  {
   "cell_type": "markdown",
   "metadata": {},
   "source": [
    "TOOL 전처리"
   ]
  },
  {
   "cell_type": "code",
   "execution_count": null,
   "metadata": {},
   "outputs": [],
   "source": [
    "df['Tool']"
   ]
  },
  {
   "cell_type": "code",
   "execution_count": null,
   "metadata": {},
   "outputs": [],
   "source": [
    "import re\n",
    "\n",
    "# 정규표현식을 사용하여 쉼표와 쉼표 사이의 R을 'R'로 변환\n",
    "df['Tool'] = df['Tool'].apply(lambda x: re.sub(r',\\s*R\\s*,', \", 'R',\", x))\n",
    "df['Tool'] = df['Tool'].apply(lambda x: re.sub(r',\\s*R$', \", 'R'\", x))\n",
    "df['Tool'] = df['Tool'].apply(lambda x: re.sub(r'^R\\s*,', \"'R',\", x))\n",
    "df['Tool'] = df['Tool'].apply(lambda x: re.sub(r'^R$', \"'R'\", x))"
   ]
  },
  {
   "cell_type": "code",
   "execution_count": null,
   "metadata": {},
   "outputs": [],
   "source": [
    "df['Tool']"
   ]
  },
  {
   "cell_type": "code",
   "execution_count": null,
   "metadata": {},
   "outputs": [],
   "source": [
    "# Tool 열의 띄어쓰기 없애기\n",
    "df['Tool1'] = df['Tool'].apply(lambda x: x.replace(' ', ''))\n",
    "\n",
    "# 결과 확인\n",
    "print(df['Tool1'])"
   ]
  },
  {
   "cell_type": "code",
   "execution_count": null,
   "metadata": {},
   "outputs": [],
   "source": [
    "# Tool1 열의 영어 단어를 모두 소문자로 변환\n",
    "df['Tool1'] = df['Tool1'].apply(lambda x: x.lower())\n",
    "\n",
    "# 각 행의 \"Tool1\" 열 값을 가져와서 쉼표로 분리하여 리스트로 만들기\n",
    "tool1_list = df['Tool1'].apply(lambda x: x.split(','))\n",
    "\n",
    "# 모든 리스트를 하나의 리스트로 합치기\n",
    "all_tools = [skill.strip() for sublist in tool1_list for skill in sublist]\n",
    "\n",
    "# 고유한 스킬 찾기\n",
    "unique_tools = set(all_tools)\n",
    "\n",
    "# 각 스킬의 개수 세기\n",
    "tool_counts = {skill: all_tools.count(skill) for skill in unique_tools}\n",
    "\n",
    "# 스킬의 개수를 기준으로 내림차순으로 정렬\n",
    "all_tool_counts = sorted(tool_counts.items(), key=lambda x: x[1], reverse=True)\n",
    "\n",
    "# 결과 출력\n",
    "for skill, count in all_tool_counts:\n",
    "    print(f\"{skill}: {count}\")"
   ]
  },
  {
   "cell_type": "code",
   "execution_count": null,
   "metadata": {},
   "outputs": [],
   "source": [
    "print(unique_tools)\n"
   ]
  },
  {
   "cell_type": "markdown",
   "metadata": {},
   "source": [
    "1. SQL"
   ]
  },
  {
   "cell_type": "code",
   "execution_count": null,
   "metadata": {},
   "outputs": [],
   "source": [
    "# SQL' 컬럼 생성\n",
    "keywords = ['sql']\n",
    "df['SQL'] = df['Tool1'].apply(lambda x: 1 if any(keyword in x for keyword in keywords) else 0)\n",
    "\n",
    "# 결과 확인\n",
    "df['SQL'].sum()"
   ]
  },
  {
   "cell_type": "code",
   "execution_count": null,
   "metadata": {},
   "outputs": [],
   "source": [
    "df.head(3)"
   ]
  },
  {
   "cell_type": "markdown",
   "metadata": {},
   "source": [
    "2. Python"
   ]
  },
  {
   "cell_type": "code",
   "execution_count": null,
   "metadata": {},
   "outputs": [],
   "source": [
    "# Python' 컬럼 생성\n",
    "keywords = ['python']\n",
    "df['Python'] = df['Tool1'].apply(lambda x: 1 if any(keyword in x for keyword in keywords) else 0)\n",
    "\n",
    "# 결과 확인\n",
    "df['Python'].sum()"
   ]
  },
  {
   "cell_type": "code",
   "execution_count": null,
   "metadata": {},
   "outputs": [],
   "source": [
    "df.head(3)"
   ]
  },
  {
   "cell_type": "markdown",
   "metadata": {},
   "source": [
    "3. 'R'"
   ]
  },
  {
   "cell_type": "code",
   "execution_count": null,
   "metadata": {},
   "outputs": [],
   "source": [
    "# 'r' 단어를 찾기 위한 정규표현식 패턴 설정\n",
    "pattern = r\"'r'\"\n",
    "\n",
    "# 'Tool1' 열에서 'r' 단어가 있는지 여부를 검사하여 'R' 열 생성\n",
    "df['R'] = df['Tool1'].str.contains(pattern).astype(int)\n",
    "\n",
    "# 결과 확인\n",
    "df['R'].sum()"
   ]
  },
  {
   "cell_type": "code",
   "execution_count": null,
   "metadata": {},
   "outputs": [],
   "source": [
    "df[df['R'] == 1].head(3)"
   ]
  },
  {
   "cell_type": "markdown",
   "metadata": {},
   "source": [
    "4. 시각화 툴"
   ]
  },
  {
   "cell_type": "code",
   "execution_count": null,
   "metadata": {},
   "outputs": [],
   "source": [
    "# '시각화 툴' 컬럼 생성\n",
    "keywords = ['tableau', 'powerbi', 'redash', 'treamlit', 'grafana', 'visio', 'lookerstudio', 'qlikview', 'plotly',\n",
    "             'looker', 'googledatastudio', 'metabase', 'cognos', 'quicksight', 'datastudio(lookerstudio)', 'bitool', 'superset']\n",
    "df['시각화 툴'] = df['Tool1'].apply(lambda x: 1 if any(keyword in x for keyword in keywords) else 0)\n",
    "\n",
    "# 결과 확인\n",
    "df['시각화 툴'].sum()"
   ]
  },
  {
   "cell_type": "code",
   "execution_count": null,
   "metadata": {},
   "outputs": [],
   "source": [
    "# 특정 단어가 포함된 단어의 개수 세기\n",
    "df['Tool1'].apply(lambda x: 1 if '통계' in x else 0).sum()"
   ]
  },
  {
   "cell_type": "markdown",
   "metadata": {},
   "source": [
    "5. 로그분석"
   ]
  },
  {
   "cell_type": "code",
   "execution_count": null,
   "metadata": {},
   "outputs": [],
   "source": [
    "# '로그분석' 컬럼 생성\n",
    "keywords = ['ga', 'googleanalytics', 'ga4', 'gtm' 'amplitude', 'adobeanalytics', 'firebase', 'braze']\n",
    "df['로그분석'] = df['Tool1'].apply(lambda x: 1 if any(keyword in x for keyword in keywords) else 0)\n",
    "\n",
    "# 결과 확인\n",
    "df['로그분석'].sum()"
   ]
  },
  {
   "cell_type": "code",
   "execution_count": null,
   "metadata": {},
   "outputs": [],
   "source": [
    "df[df['로그분석'] == 1].head(3)"
   ]
  },
  {
   "cell_type": "markdown",
   "metadata": {},
   "source": [
    "6. BigData"
   ]
  },
  {
   "cell_type": "code",
   "execution_count": null,
   "metadata": {},
   "outputs": [],
   "source": [
    "# 'BigData' 컬럼 생성\n",
    "keywords = ['hadoop', 'bigquery', 'snowflake', 'spark', 'hive', 'presto', 'nifi', 'databricks', 'sashadoop', 'etl'\n",
    "            'googlebigquery', 'amazonredshift', 'airflow', 'trino', 'databricks']\n",
    "df['BigData'] = df['Tool1'].apply(lambda x: 1 if any(keyword in x for keyword in keywords) else 0)\n",
    "\n",
    "# 결과 확인\n",
    "df['BigData'].sum()"
   ]
  },
  {
   "cell_type": "code",
   "execution_count": null,
   "metadata": {},
   "outputs": [],
   "source": [
    "# 특정 단어가 포함된 단어의 개수 세기\n",
    "df['Tool1'].apply(lambda x: 1 if 'storage' in x else 0).sum()"
   ]
  },
  {
   "cell_type": "markdown",
   "metadata": {},
   "source": [
    "7.Cloud "
   ]
  },
  {
   "cell_type": "code",
   "execution_count": null,
   "metadata": {},
   "outputs": [],
   "source": [
    "# 'Cloud' 컬럼 생성\n",
    "keywords = ['aws', 'aws/gcp', 'googlecloud', 's3', 'gcp', 'cloud', 'amazonweb', 'bigquery', 'ncp']\n",
    "df['Cloud'] = df['Tool1'].apply(lambda x: 1 if any(keyword in x for keyword in keywords) else 0)\n",
    "\n",
    "# 결과 확인\n",
    "df['Cloud'].sum()"
   ]
  },
  {
   "cell_type": "markdown",
   "metadata": {},
   "source": [
    "8. 데이터베이스 관리"
   ]
  },
  {
   "cell_type": "code",
   "execution_count": null,
   "metadata": {},
   "outputs": [],
   "source": [
    "# 'database' 컬럼 생성\n",
    "keywords = [ 'mongodb', '통계소프트웨어', 'nosql', 'mssql', 'snowflake', 'googlecloudsqlforpostgresql', 'amazonauroramysql', 'ibmdb2', \n",
    "            'postgresql', 'tibero', 'mysql', 'mariadb', 'amazonredshift', 'amazonathena', 'saperp', 'oracle', 'postresql', 'databricks']\n",
    "df['database'] = df['Tool1'].apply(lambda x: 1 if any(keyword in x for keyword in keywords) else 0)\n",
    "\n",
    "# 결과 확인\n",
    "df['database'].sum()"
   ]
  },
  {
   "cell_type": "markdown",
   "metadata": {},
   "source": [
    "9. 개발"
   ]
  },
  {
   "cell_type": "code",
   "execution_count": null,
   "metadata": {},
   "outputs": [],
   "source": [
    "# 'app/web' 컬럼 생성\n",
    "keywords = ['shiny', 'kafka', 'zeppelin', 'jira', 'ruby', 'web', 'kuberne' 'c+', 'java', 'scala', 'linux']\n",
    "df['개발'] = df['Tool1'].apply(lambda x: 1 if any(keyword in x for keyword in keywords) else 0)\n",
    "\n",
    "# 결과 확인\n",
    "df['개발'].sum()"
   ]
  },
  {
   "cell_type": "markdown",
   "metadata": {},
   "source": [
    "10. 머신러닝 "
   ]
  },
  {
   "cell_type": "code",
   "execution_count": null,
   "metadata": {},
   "outputs": [],
   "source": [
    "# 'ML' 컬럼 생성\n",
    "keywords = ['python', 'lightgbm', 'numpy', 'pandas', 'scikit', 'boost', 'scipy', 'shap', 'googleanaly', 'mlflow']\n",
    "df['ML'] = df['Tool1'].apply(lambda x: 1 if any(keyword in x for keyword in keywords) else 0)\n",
    "\n",
    "# 결과 확인\n",
    "df['ML'].sum()"
   ]
  },
  {
   "cell_type": "code",
   "execution_count": null,
   "metadata": {},
   "outputs": [],
   "source": [
    "# 특정 단어가 포함된 단어의 개수 세기\n",
    "df['Tool1'].apply(lambda x: 1 if 'mlflow' in x else 0).sum()"
   ]
  },
  {
   "cell_type": "markdown",
   "metadata": {},
   "source": [
    "11. 딥러닝"
   ]
  },
  {
   "cell_type": "code",
   "execution_count": null,
   "metadata": {},
   "outputs": [],
   "source": [
    "# 'DL' 컬럼 생성\n",
    "keywords = ['pytorch', 'keras', 'tensorflow', 'mmdet', 'mxnet', 'pyspark', 'opencv', 'nlp', 'mlflow', 'airflow', 'torch']\n",
    "df['DL'] = df['Tool1'].apply(lambda x: 1 if any(keyword in x for keyword in keywords) else 0)\n",
    "\n",
    "# 결과 확인\n",
    "df['DL'].sum()"
   ]
  },
  {
   "cell_type": "code",
   "execution_count": null,
   "metadata": {},
   "outputs": [],
   "source": [
    "df.info()"
   ]
  },
  {
   "cell_type": "markdown",
   "metadata": {},
   "source": [
    "우대사항 전처리 - hard plus"
   ]
  },
  {
   "cell_type": "code",
   "execution_count": null,
   "metadata": {},
   "outputs": [],
   "source": [
    "# hard plus 열의 띄어쓰기 없애기\n",
    "df['hard plus'] = df['hard plus'].apply(lambda x: x.replace(' ', ''))\n",
    "\n",
    "# hard plus 열의 영어 단어를 모두 소문자로 변환\n",
    "df['hard plus'] = df['hard plus'].apply(lambda x: x.lower())\n",
    "\n",
    "# 결과 확인\n",
    "print(df['hard plus'])"
   ]
  },
  {
   "cell_type": "markdown",
   "metadata": {},
   "source": [
    "DA plus"
   ]
  },
  {
   "cell_type": "code",
   "execution_count": null,
   "metadata": {},
   "outputs": [],
   "source": [
    "# 'DA plus' 컬럼 생성\n",
    "keywords = ['데이터분석']\n",
    "df['DA plus'] = df['hard plus'].apply(lambda x: 1 if any(keyword in x for keyword in keywords) else 0)\n",
    "\n",
    "# 결과 확인\n",
    "df['DA plus'].sum()"
   ]
  },
  {
   "cell_type": "code",
   "execution_count": null,
   "metadata": {},
   "outputs": [],
   "source": [
    "df[df['DA plus'] == 1].head(3)"
   ]
  },
  {
   "cell_type": "markdown",
   "metadata": {},
   "source": [
    "통계 plus"
   ]
  },
  {
   "cell_type": "code",
   "execution_count": null,
   "metadata": {},
   "outputs": [],
   "source": [
    "# '통계 plus' 컬럼 생성\n",
    "keywords = ['통계', '베이지안', '확률', '회귀']\n",
    "df['통계 plus'] = df['hard plus'].apply(lambda x: 1 if any(keyword in x for keyword in keywords) else 0)\n",
    "\n",
    "# 결과 확인\n",
    "df['통계 plus'].sum()"
   ]
  },
  {
   "cell_type": "markdown",
   "metadata": {},
   "source": [
    "ML plus"
   ]
  },
  {
   "cell_type": "code",
   "execution_count": null,
   "metadata": {},
   "outputs": [],
   "source": [
    "# 'ML plus' 컬럼 생성\n",
    "keywords = ['머신러닝','모델링','ml','파라미터','최적화','분류', 'mlops','예측','시계열']\n",
    "df['ML plus'] = df['hard plus'].apply(lambda x: 1 if any(keyword in x for keyword in keywords) else 0)\n",
    "\n",
    "# 결과 확인\n",
    "df['ML plus'].sum()"
   ]
  },
  {
   "cell_type": "markdown",
   "metadata": {},
   "source": [
    "DL plus"
   ]
  },
  {
   "cell_type": "code",
   "execution_count": null,
   "metadata": {},
   "outputs": [],
   "source": [
    "# 'DL plus' 컬럼 생성\n",
    "keywords = ['딥러닝','신경망','llm', '추천','알고리즘','검색','프레임워크','dl']\n",
    "df['DL plus'] = df['hard plus'].apply(lambda x: 1 if any(keyword in x for keyword in keywords) else 0)\n",
    "\n",
    "# 결과 확인\n",
    "df['DL plus'].sum()"
   ]
  },
  {
   "cell_type": "code",
   "execution_count": null,
   "metadata": {},
   "outputs": [],
   "source": [
    "# 특정 단어가 포함된 단어의 개수 세기\n",
    "df['hard plus'].apply(lambda x: 1 if '대시보드' in x else 0).sum()"
   ]
  },
  {
   "cell_type": "markdown",
   "metadata": {},
   "source": [
    "시각화 plus"
   ]
  },
  {
   "cell_type": "code",
   "execution_count": null,
   "metadata": {},
   "outputs": [],
   "source": [
    "# '시각화 plus' 컬럼 생성\n",
    "keywords = ['시각화', '대시보드','bi']\n",
    "df['시각화 plus'] = df['hard plus'].apply(lambda x: 1 if any(keyword in x for keyword in keywords) else 0)\n",
    "\n",
    "# 결과 확인\n",
    "df['시각화 plus'].sum()"
   ]
  },
  {
   "cell_type": "markdown",
   "metadata": {},
   "source": [
    "데이터 가공 plus"
   ]
  },
  {
   "cell_type": "code",
   "execution_count": null,
   "metadata": {},
   "outputs": [],
   "source": [
    "# '데이터 가공 plus' 컬럼 생성\n",
    "keywords = ['수집', '추출', '가공','데이터처리']\n",
    "df['데이터 가공 plus'] = df['hard plus'].apply(lambda x: 1 if any(keyword in x for keyword in keywords) else 0)\n",
    "\n",
    "# 결과 확인\n",
    "df['데이터 가공 plus'].sum()"
   ]
  },
  {
   "cell_type": "markdown",
   "metadata": {},
   "source": [
    "빅데이터 plus"
   ]
  },
  {
   "cell_type": "code",
   "execution_count": null,
   "metadata": {},
   "outputs": [],
   "source": [
    "# '빅데이터 plus' 컬럼 생성\n",
    "keywords = ['대용량', '대규모', '빅데이터']\n",
    "df['빅데이터 plus'] = df['hard plus'].apply(lambda x: 1 if any(keyword in x for keyword in keywords) else 0)\n",
    "\n",
    "# 결과 확인\n",
    "df['빅데이터 plus'].sum()"
   ]
  },
  {
   "cell_type": "code",
   "execution_count": null,
   "metadata": {},
   "outputs": [],
   "source": [
    "# 특정 단어가 포함된 단어의 개수 세기\n",
    "df['hard plus'].apply(lambda x: 1 if '회귀' in x else 0).sum()"
   ]
  },
  {
   "cell_type": "markdown",
   "metadata": {},
   "source": [
    "6. 클라우드 plus"
   ]
  },
  {
   "cell_type": "code",
   "execution_count": null,
   "metadata": {},
   "outputs": [],
   "source": [
    "# '클라우드 plus' 컬럼 생성\n",
    "keywords = ['클라우드']\n",
    "df['클라우드 plus'] = df['hard plus'].apply(lambda x: 1 if any(keyword in x for keyword in keywords) else 0)\n",
    "\n",
    "# 결과 확인\n",
    "df['클라우드 plus'].sum()"
   ]
  },
  {
   "cell_type": "markdown",
   "metadata": {},
   "source": [
    "7. 통계 plus"
   ]
  },
  {
   "cell_type": "code",
   "execution_count": null,
   "metadata": {},
   "outputs": [],
   "source": [
    "# 특정 단어가 포함된 단어의 개수 세기\n",
    "df['hard plus'].apply(lambda x: 1 if 'eda' in x else 0).sum()"
   ]
  },
  {
   "cell_type": "markdown",
   "metadata": {},
   "source": [
    "8. 파이프라인 plus"
   ]
  },
  {
   "cell_type": "code",
   "execution_count": null,
   "metadata": {},
   "outputs": [],
   "source": [
    "# '파이프라인 plus' 컬럼 생성\n",
    "keywords = ['파이프라인','데이터마트', '웨어하우스', '데이터레이크', '데이터베이스', '인프라']\n",
    "df['파이프라인 plus'] = df['hard plus'].apply(lambda x: 1 if any(keyword in x for keyword in keywords) else 0)\n",
    "\n",
    "# 결과 확인\n",
    "df['파이프라인 plus'].sum()"
   ]
  },
  {
   "cell_type": "markdown",
   "metadata": {},
   "source": [
    "10. 그로스해킹 plus"
   ]
  },
  {
   "cell_type": "code",
   "execution_count": null,
   "metadata": {},
   "outputs": [],
   "source": [
    "# '그로스해킹 plus' 컬럼 생성\n",
    "keywords = ['a/b', 'aarrr', 'ltv', 'retention', 'funnel', '퍼널', 'clv', 'cltv', '코호트', '그로스', '지표', '비즈니스']\n",
    "df['그로스해킹 plus'] = df['hard plus'].apply(lambda x: 1 if any(keyword in x for keyword in keywords) else 0)\n",
    "\n",
    "# 결과 확인\n",
    "df['그로스해킹 plus'].sum()"
   ]
  },
  {
   "cell_type": "code",
   "execution_count": null,
   "metadata": {},
   "outputs": [],
   "source": [
    "# 특정 단어가 포함된 단어의 개수 세기\n",
    "df['hard plus'].apply(lambda x: 1 if '유저' in x else 0).sum()"
   ]
  },
  {
   "cell_type": "markdown",
   "metadata": {},
   "source": [
    "11. 로그 plus"
   ]
  },
  {
   "cell_type": "code",
   "execution_count": null,
   "metadata": {},
   "outputs": [],
   "source": [
    "# '로그 plus' 컬럼 생성\n",
    "keywords = ['로그', 'app/web', '사용자', '행동', '유저']\n",
    "df['로그 plus'] = df['hard plus'].apply(lambda x: 1 if any(keyword in x for keyword in keywords) else 0)\n",
    "\n",
    "# 결과 확인\n",
    "df['로그 plus'].sum()"
   ]
  },
  {
   "cell_type": "markdown",
   "metadata": {},
   "source": [
    "12. 마케팅 plus"
   ]
  },
  {
   "cell_type": "code",
   "execution_count": null,
   "metadata": {},
   "outputs": [],
   "source": [
    "# '마케팅 plus' 컬럼 생성\n",
    "keywords = ['마케팅', '프로덕트', '서비스', '비즈니스', '커머스']\n",
    "df['마케팅 plus'] = df['hard plus'].apply(lambda x: 1 if any(keyword in x for keyword in keywords) else 0)\n",
    "\n",
    "# 결과 확인\n",
    "df['마케팅 plus'].sum()"
   ]
  },
  {
   "cell_type": "code",
   "execution_count": null,
   "metadata": {},
   "outputs": [],
   "source": [
    "# 특정 단어가 포함된 단어의 개수 세기\n",
    "df['hard plus'].apply(lambda x: 1 if '전략' in x else 0).sum()"
   ]
  },
  {
   "cell_type": "code",
   "execution_count": null,
   "metadata": {},
   "outputs": [],
   "source": [
    "df[df['마케팅 plus'] == 1].head(3)"
   ]
  },
  {
   "cell_type": "code",
   "execution_count": null,
   "metadata": {},
   "outputs": [],
   "source": [
    "df.info()"
   ]
  },
  {
   "cell_type": "markdown",
   "metadata": {},
   "source": [
    "우대사항 전처리 - soft plus"
   ]
  },
  {
   "cell_type": "code",
   "execution_count": null,
   "metadata": {},
   "outputs": [],
   "source": [
    "# soft plus 열의 띄어쓰기 없애기\n",
    "df['soft plus'] = df['soft plus'].apply(lambda x: x.replace(' ', ''))\n",
    "\n",
    "# hard plus 열의 영어 단어를 모두 소문자로 변환\n",
    "df['soft plus'] = df['soft plus'].apply(lambda x: x.lower())\n",
    "\n",
    "# 결과 확인\n",
    "print(df['soft plus'])"
   ]
  },
  {
   "cell_type": "markdown",
   "metadata": {},
   "source": [
    "1. 전공"
   ]
  },
  {
   "cell_type": "code",
   "execution_count": null,
   "metadata": {},
   "outputs": [],
   "source": [
    "# '전공' 컬럼 생성\n",
    "keywords = ['전공']\n",
    "df['전공'] = df['soft plus'].apply(lambda x: 1 if any(keyword in x for keyword in keywords) else 0)\n",
    "\n",
    "# 결과 확인\n",
    "df['전공'].sum()"
   ]
  },
  {
   "cell_type": "code",
   "execution_count": null,
   "metadata": {},
   "outputs": [],
   "source": [
    "# 특정 단어가 포함된 단어의 개수 세기\n",
    "df['soft plus'].apply(lambda x: 1 if '방향성' in x else 0).sum()"
   ]
  },
  {
   "cell_type": "markdown",
   "metadata": {},
   "source": [
    "2. 의사소통 plus"
   ]
  },
  {
   "cell_type": "code",
   "execution_count": null,
   "metadata": {},
   "outputs": [],
   "source": [
    "# '협업능력' 컬럼 생성\n",
    "keywords = ['협업', '커뮤니케이션']\n",
    "df['의사소통 plus'] = df['soft plus'].apply(lambda x: 1 if any(keyword in x for keyword in keywords) else 0)\n",
    "\n",
    "# 결과 확인\n",
    "df['의사소통 plus'].sum()"
   ]
  },
  {
   "cell_type": "markdown",
   "metadata": {},
   "source": [
    "3. 리더십 plus"
   ]
  },
  {
   "cell_type": "code",
   "execution_count": null,
   "metadata": {},
   "outputs": [],
   "source": [
    "# '리더십 plus' 컬럼 생성\n",
    "keywords = ['리딩','조직관리','지도력','가이드라인','의사결정','방향성','리더', '관리']\n",
    "df['리더십 plus'] = df['soft plus'].apply(lambda x: 1 if any(keyword in x for keyword in keywords) else 0)\n",
    "\n",
    "# 결과 확인\n",
    "df['리더십 plus'].sum()"
   ]
  },
  {
   "cell_type": "code",
   "execution_count": null,
   "metadata": {},
   "outputs": [],
   "source": [
    "# 특정 단어가 포함된 단어의 개수 세기\n",
    "df['soft plus'].apply(lambda x: 1 if '피드' in x else 0).sum()"
   ]
  },
  {
   "cell_type": "markdown",
   "metadata": {},
   "source": [
    "4. 문제해결능력 plus"
   ]
  },
  {
   "cell_type": "code",
   "execution_count": null,
   "metadata": {},
   "outputs": [],
   "source": [
    "# '문제해결능력 plus' 컬럼 생성\n",
    "keywords = ['문제해결', '인사이트', '액션', '문제정의', '전략', '목표','추론']\n",
    "df['문제해결능력 plus'] = df['soft plus'].apply(lambda x: 1 if any(keyword in x for keyword in keywords) else 0)\n",
    "\n",
    "# 결과 확인\n",
    "df['문제해결능력 plus'].sum()"
   ]
  },
  {
   "cell_type": "code",
   "execution_count": null,
   "metadata": {},
   "outputs": [],
   "source": [
    "# 특정 단어가 포함된 단어의 개수 세기\n",
    "df['soft plus'].apply(lambda x: 1 if '추론' in x else 0).sum()"
   ]
  },
  {
   "cell_type": "markdown",
   "metadata": {},
   "source": [
    "5. 공모전"
   ]
  },
  {
   "cell_type": "code",
   "execution_count": null,
   "metadata": {},
   "outputs": [],
   "source": [
    "# '공모전' 컬럼 생성\n",
    "keywords = ['입상', '수상', '공모전', '대회']\n",
    "df['공모전'] = df['soft plus'].apply(lambda x: 1 if any(keyword in x for keyword in keywords) else 0)\n",
    "\n",
    "# 결과 확인\n",
    "df['공모전'].sum()"
   ]
  },
  {
   "cell_type": "markdown",
   "metadata": {},
   "source": [
    "6. Agile plus"
   ]
  },
  {
   "cell_type": "code",
   "execution_count": null,
   "metadata": {},
   "outputs": [],
   "source": [
    "# '스타트업' 컬럼 생성\n",
    "keywords = ['스타트업', 'agile', '멀티']\n",
    "df['Agile plus'] = df['soft plus'].apply(lambda x: 1 if any(keyword in x for keyword in keywords) else 0)\n",
    "\n",
    "# 결과 확인\n",
    "df['Agile plus'].sum()"
   ]
  },
  {
   "cell_type": "markdown",
   "metadata": {},
   "source": [
    "7. 프로젝트 경험"
   ]
  },
  {
   "cell_type": "code",
   "execution_count": null,
   "metadata": {},
   "outputs": [],
   "source": [
    "# '프로젝트 경험' 컬럼 생성\n",
    "keywords = ['프로젝트','프로젝트경험','프로세스']\n",
    "df['프로젝트 경험'] = df['soft plus'].apply(lambda x: 1 if any(keyword in x for keyword in keywords) else 0)\n",
    "\n",
    "# 결과 확인\n",
    "df['프로젝트 경험'].sum()"
   ]
  },
  {
   "cell_type": "code",
   "execution_count": null,
   "metadata": {},
   "outputs": [],
   "source": [
    "# 특정 단어가 포함된 단어의 개수 세기\n",
    "df['soft plus'].apply(lambda x: 1 if '석박' in x else 0).sum()"
   ]
  },
  {
   "cell_type": "markdown",
   "metadata": {},
   "source": [
    "8. 학력 plus"
   ]
  },
  {
   "cell_type": "code",
   "execution_count": null,
   "metadata": {},
   "outputs": [],
   "source": [
    "# '학력 plus' 컬럼 생성\n",
    "keywords = ['석사','박사','mba','연구']\n",
    "df['학력 plus'] = df['soft plus'].apply(lambda x: 1 if any(keyword in x for keyword in keywords) else 0)\n",
    "\n",
    "# 결과 확인\n",
    "df['학력 plus'].sum()"
   ]
  },
  {
   "cell_type": "markdown",
   "metadata": {},
   "source": [
    "9. 논리적/분석적 사고 plus"
   ]
  },
  {
   "cell_type": "code",
   "execution_count": null,
   "metadata": {},
   "outputs": [],
   "source": [
    "# '논리적/분석적 사고 plus' 컬럼 생성\n",
    "keywords = ['논리적', '분석적', '방법론', '데이터기반', '리터러시', '가설', '추론']\n",
    "df['논리적/분석적 사고 plus'] = df['soft plus'].apply(lambda x: 1 if any(keyword in x for keyword in keywords) else 0)\n",
    "\n",
    "# 결과 확인\n",
    "df['논리적/분석적 사고 plus'].sum()"
   ]
  },
  {
   "cell_type": "markdown",
   "metadata": {},
   "source": [
    "10. 창의력 plus"
   ]
  },
  {
   "cell_type": "code",
   "execution_count": null,
   "metadata": {},
   "outputs": [],
   "source": [
    "# '창의력 plus' 컬럼 생성\n",
    "keywords = ['창의','호기심','유연','이해력','새로운']\n",
    "df['창의력 plus'] = df['soft plus'].apply(lambda x: 1 if any(keyword in x for keyword in keywords) else 0)\n",
    "\n",
    "# 결과 확인\n",
    "df['창의력 plus'].sum()"
   ]
  },
  {
   "cell_type": "code",
   "execution_count": null,
   "metadata": {},
   "outputs": [],
   "source": [
    "# 특정 단어가 포함된 단어의 개수 세기\n",
    "df['soft plus'].apply(lambda x: 1 if '성장' in x else 0).sum()"
   ]
  },
  {
   "cell_type": "code",
   "execution_count": null,
   "metadata": {},
   "outputs": [],
   "source": [
    "# '적극적 plus' 컬럼 생성\n",
    "keywords = ['적극','주도','능동','열정','의지','학구심','열정', '동기부여', '성장']\n",
    "df['적극적 plus'] = df['soft plus'].apply(lambda x: 1 if any(keyword in x for keyword in keywords) else 0)\n",
    "\n",
    "# 결과 확인\n",
    "df['적극적 plus'].sum()"
   ]
  },
  {
   "cell_type": "markdown",
   "metadata": {},
   "source": [
    "11. 관심/경험 plus"
   ]
  },
  {
   "cell_type": "code",
   "execution_count": null,
   "metadata": {},
   "outputs": [],
   "source": [
    "# '관심/경험' 컬럼 생성\n",
    "keywords = ['경험','이해', '관심']\n",
    "df['관심/경험 plus'] = df['soft plus'].apply(lambda x: 1 if any(keyword in x for keyword in keywords) else 0)\n",
    "\n",
    "# 결과 확인\n",
    "df['관심/경험 plus'].sum()"
   ]
  },
  {
   "cell_type": "markdown",
   "metadata": {},
   "source": [
    "12. 논문"
   ]
  },
  {
   "cell_type": "code",
   "execution_count": null,
   "metadata": {},
   "outputs": [],
   "source": [
    "# '논문' 컬럼 생성\n",
    "keywords = ['논문','학술']\n",
    "df['논문'] = df['soft plus'].apply(lambda x: 1 if any(keyword in x for keyword in keywords) else 0)\n",
    "\n",
    "# 결과 확인\n",
    "df['논문'].sum()"
   ]
  },
  {
   "cell_type": "code",
   "execution_count": null,
   "metadata": {},
   "outputs": [],
   "source": [
    "# 특정 단어가 포함된 단어의 개수 세기\n",
    "df['soft plus'].apply(lambda x: 1 if '학술' in x else 0).sum()"
   ]
  },
  {
   "cell_type": "markdown",
   "metadata": {},
   "source": [
    "13. 영어 plus"
   ]
  },
  {
   "cell_type": "code",
   "execution_count": null,
   "metadata": {},
   "outputs": [],
   "source": [
    "# '영어 plus' 컬럼 생성\n",
    "keywords = ['영어']\n",
    "df['영어 plus'] = df['soft plus'].apply(lambda x: 1 if any(keyword in x for keyword in keywords) else 0)\n",
    "\n",
    "# 결과 확인\n",
    "df['영어 plus'].sum()"
   ]
  },
  {
   "cell_type": "code",
   "execution_count": null,
   "metadata": {},
   "outputs": [],
   "source": [
    "df.info()"
   ]
  },
  {
   "cell_type": "markdown",
   "metadata": {},
   "source": [
    "Tool 전처리 - Tool Plus"
   ]
  },
  {
   "cell_type": "code",
   "execution_count": null,
   "metadata": {},
   "outputs": [],
   "source": [
    "df['tool plus']"
   ]
  },
  {
   "cell_type": "code",
   "execution_count": null,
   "metadata": {},
   "outputs": [],
   "source": [
    "import re\n",
    "\n",
    "# 정규표현식을 사용하여 쉼표와 쉼표 사이의 R을 'R'로 변환\n",
    "df['tool plus'] = df['tool plus'].apply(lambda x: re.sub(r',\\s*R\\s*,', \", 'R',\", x))\n",
    "df['tool plus'] = df['tool plus'].apply(lambda x: re.sub(r',\\s*R$', \", 'R'\", x))\n",
    "df['tool plus'] = df['tool plus'].apply(lambda x: re.sub(r'^R\\s*,', \"'R',\", x))\n",
    "df['tool plus'] = df['tool plus'].apply(lambda x: re.sub(r'^R$', \"'R'\", x))"
   ]
  },
  {
   "cell_type": "code",
   "execution_count": null,
   "metadata": {},
   "outputs": [],
   "source": [
    "# Tool 열의 띄어쓰기 없애기\n",
    "df['tool plus1'] = df['tool plus'].apply(lambda x: x.replace(' ', ''))\n",
    "\n",
    "# 결과 확인\n",
    "print(df['tool plus1'])"
   ]
  },
  {
   "cell_type": "code",
   "execution_count": null,
   "metadata": {},
   "outputs": [],
   "source": [
    "df['tool plus1'].head(10)"
   ]
  },
  {
   "cell_type": "code",
   "execution_count": null,
   "metadata": {},
   "outputs": [],
   "source": [
    "# Tool1 열의 영어 단어를 모두 소문자로 변환\n",
    "df['tool plus1'] = df['tool plus1'].apply(lambda x: x.lower())\n",
    "\n",
    "# 각 행의 \"Tool1\" 열 값을 가져와서 쉼표로 분리하여 리스트로 만들기\n",
    "tool1_list = df['tool plus1'].apply(lambda x: x.split(','))\n",
    "\n",
    "# 모든 리스트를 하나의 리스트로 합치기\n",
    "all_tools = [skill.strip() for sublist in tool1_list for skill in sublist]\n",
    "\n",
    "# 고유한 스킬 찾기\n",
    "unique_tools = set(all_tools)\n",
    "\n",
    "# 각 스킬의 개수 세기\n",
    "tool_counts = {skill: all_tools.count(skill) for skill in unique_tools}\n",
    "\n",
    "# 스킬의 개수를 기준으로 내림차순으로 정렬\n",
    "all_tool_counts = sorted(tool_counts.items(), key=lambda x: x[1], reverse=True)\n",
    "\n",
    "# 결과 출력\n",
    "for skill, count in all_tool_counts:\n",
    "   print(f\"{skill}: {count}\")"
   ]
  },
  {
   "cell_type": "markdown",
   "metadata": {},
   "source": [
    "1. SQL"
   ]
  },
  {
   "cell_type": "code",
   "execution_count": null,
   "metadata": {},
   "outputs": [],
   "source": [
    "# SQL' 컬럼 생성\n",
    "keywords = ['sql']\n",
    "df['SQL plus'] = df['tool plus1'].apply(lambda x: 1 if any(keyword in x for keyword in keywords) else 0)\n",
    "\n",
    "# 결과 확인\n",
    "df['SQL plus'].sum()"
   ]
  },
  {
   "cell_type": "markdown",
   "metadata": {},
   "source": [
    "2. Python"
   ]
  },
  {
   "cell_type": "code",
   "execution_count": null,
   "metadata": {},
   "outputs": [],
   "source": [
    "# 'Python' 컬럼 생성\n",
    "keywords = ['python']\n",
    "df['Python plus'] = df['tool plus1'].apply(lambda x: 1 if any(keyword in x for keyword in keywords) else 0)\n",
    "\n",
    "# 결과 확인\n",
    "df['Python plus'].sum()"
   ]
  },
  {
   "cell_type": "markdown",
   "metadata": {},
   "source": [
    "3. 'R'"
   ]
  },
  {
   "cell_type": "code",
   "execution_count": null,
   "metadata": {},
   "outputs": [],
   "source": [
    "# 'r' 단어를 찾기 위한 정규표현식 패턴 설정\n",
    "pattern = r\"'r'\"\n",
    "\n",
    "# 'Tool1' 열에서 'r' 단어가 있는지 여부를 검사하여 'R' 열 생성\n",
    "df['R plus'] = df['tool plus1'].str.contains(pattern).astype(int)\n",
    "\n",
    "# 결과 확인\n",
    "df['R plus'].sum()"
   ]
  },
  {
   "cell_type": "markdown",
   "metadata": {},
   "source": [
    "4. 시각화 툴 plus"
   ]
  },
  {
   "cell_type": "code",
   "execution_count": null,
   "metadata": {},
   "outputs": [],
   "source": [
    "# '시각화 툴 plus' 컬럼 생성\n",
    "keywords = ['tableau', 'powerbi', 'redash', 'treamlit', 'grafana', 'visio', 'lookerstudio', 'qlikview', 'plotly',\n",
    "             'looker', 'googledatastudio', 'metabase', 'cognos', 'quicksight', 'datastudio(lookerstudio)', 'bitool', 'superset']\n",
    "df['시각화 툴 plus'] = df['tool plus1'].apply(lambda x: 1 if any(keyword in x for keyword in keywords) else 0)\n",
    "\n",
    "# 결과 확인\n",
    "df['시각화 툴 plus'].sum()"
   ]
  },
  {
   "cell_type": "markdown",
   "metadata": {},
   "source": [
    "5. 로그분석 plus"
   ]
  },
  {
   "cell_type": "code",
   "execution_count": null,
   "metadata": {},
   "outputs": [],
   "source": [
    "# '로그 분석' 컬럼 생성\n",
    "keywords = ['ga','googleanalytics','amplitude','mixpanel','adobeanalytics','firebase', 'braze', 'ga4', 'gtm']\n",
    "\n",
    "df['로그분석 plus'] = df['tool plus1'].apply(lambda x: 1 if any(keyword in x for keyword in keywords) else 0)\n",
    "\n",
    "# 결과 확인\n",
    "df['로그분석 plus'].sum()"
   ]
  },
  {
   "cell_type": "code",
   "execution_count": null,
   "metadata": {},
   "outputs": [],
   "source": [
    "# 특정 단어가 포함된 단어의 개수 세기\n",
    "df['tool plus1'].apply(lambda x: 1 if 'googleanalytics' in x else 0).sum()"
   ]
  },
  {
   "cell_type": "markdown",
   "metadata": {},
   "source": [
    "6. BigData plus"
   ]
  },
  {
   "cell_type": "code",
   "execution_count": null,
   "metadata": {},
   "outputs": [],
   "source": [
    "# 'BigData plus' 컬럼 생성\n",
    "keywords = ['hadoop', 'bigquery', 'snowflake', 'spark', 'hive', 'presto', 'nifi', 'databricks', 'sashadoop', 'etl'\n",
    "            'googlebigquery', 'amazonredshift', 'airflow', 'trino', 'databricks']\n",
    "\n",
    "df['BigData plus'] = df['tool plus1'].apply(lambda x: 1 if any(keyword in x for keyword in keywords) else 0)\n",
    "\n",
    "# 결과 확인\n",
    "df['BigData plus'].sum()"
   ]
  },
  {
   "cell_type": "markdown",
   "metadata": {},
   "source": [
    "7. Cloud plus"
   ]
  },
  {
   "cell_type": "code",
   "execution_count": null,
   "metadata": {},
   "outputs": [],
   "source": [
    "# 'Cloud plus' 컬럼 생성\n",
    "keywords = ['aws', 'aws/gcp', 'googlecloud', 's3', 'gcp', 'cloud', 'amazonweb', 'bigquery', 'ncp']\n",
    "\n",
    "df['Cloud plus'] = df['tool plus1'].apply(lambda x: 1 if any(keyword in x for keyword in keywords) else 0)\n",
    "\n",
    "# 결과 확인\n",
    "df['Cloud plus'].sum()"
   ]
  },
  {
   "cell_type": "markdown",
   "metadata": {},
   "source": [
    "8. database plus"
   ]
  },
  {
   "cell_type": "code",
   "execution_count": null,
   "metadata": {},
   "outputs": [],
   "source": [
    "# 'database plus' 컬럼 생성\n",
    "keywords = [ 'mongodb', 'nosql', 'mssql', 'snowflake', 'googlecloudsqlforpostgresql', 'amazonauroramysql', 'ibmdb2', 'rdb'\n",
    "            'postgresql', 'tibero', 'mysql', 'mariadb', 'amazonredshift', 'amazonathena', 'saperp', 'oracle', 'postresql', 'databricks']\n",
    "\n",
    "df['database plus'] = df['tool plus1'].apply(lambda x: 1 if any(keyword in x for keyword in keywords) else 0)\n",
    "\n",
    "# 결과 확인\n",
    "df['database plus'].sum()"
   ]
  },
  {
   "cell_type": "markdown",
   "metadata": {},
   "source": [
    "9. 개발 plus  "
   ]
  },
  {
   "cell_type": "code",
   "execution_count": null,
   "metadata": {},
   "outputs": [],
   "source": [
    "# '개발 plus' 컬럼 생성\n",
    "keywords = [ 'shiny', 'kafka', 'zeppelin', 'jira', 'ruby', 'web', 'kuberne' 'c+', 'java', 'scala', 'linux']\n",
    "\n",
    "df['개발 plus'] = df['tool plus1'].apply(lambda x: 1 if any(keyword in x for keyword in keywords) else 0)\n",
    "\n",
    "# 결과 확인\n",
    "df['개발 plus'].sum()"
   ]
  },
  {
   "cell_type": "markdown",
   "metadata": {},
   "source": [
    "10. 딥러닝 plus"
   ]
  },
  {
   "cell_type": "code",
   "execution_count": null,
   "metadata": {},
   "outputs": [],
   "source": [
    "# '딥러닝 plus' 컬럼 생성\n",
    "keywords = ['pytorch', 'keras', 'tensorflow', 'mmdet', 'mxnet', 'pyspark', 'opencv', 'nlp', 'mlflow', 'airflow', 'torch', 'llm']\n",
    "\n",
    "df['딥러닝 plus'] = df['tool plus1'].apply(lambda x: 1 if any(keyword in x for keyword in keywords) else 0)\n",
    "\n",
    "# 결과 확인\n",
    "df['딥러닝 plus'].sum()"
   ]
  },
  {
   "cell_type": "code",
   "execution_count": null,
   "metadata": {},
   "outputs": [],
   "source": [
    "df.info()"
   ]
  },
  {
   "cell_type": "markdown",
   "metadata": {},
   "source": [
    "전체 코사인유사도"
   ]
  },
  {
   "cell_type": "code",
   "execution_count": null,
   "metadata": {},
   "outputs": [],
   "source": [
    "from sklearn.metrics.pairwise import cosine_similarity\n",
    "\n",
    "# 코사인 유사도를 계산할 열을 선택합니다.\n",
    "columns_for_similarity = df.iloc[:, 12:41].join(df.iloc[:, 42:76]).join(df.iloc[:, 77:87])\n",
    "\n",
    "# 코사인 유사도를 계산합니다.\n",
    "cosine_sim = cosine_similarity(columns_for_similarity, columns_for_similarity)\n",
    "\n",
    "# 계산된 코사인 유사도를 새로운 데이터프레임에 저장합니다.\n",
    "cosine_sim_df = pd.DataFrame(cosine_sim, columns=df.index, index=df.index)\n",
    "\n",
    "# 결과 확인\n",
    "cosine_sim_df"
   ]
  },
  {
   "cell_type": "code",
   "execution_count": null,
   "metadata": {},
   "outputs": [],
   "source": [
    "# 136번 데이터의 코사인 유사도 값들을 가져옵니다.\n",
    "similarities_to_136 = cosine_sim_df.iloc[136, :]\n",
    "\n",
    "# 136번 데이터를 포함하여 가장 유사한 상위 5개 데이터의 인덱스를 가져옵니다.\n",
    "most_similar_indices = similarities_to_136.drop(136).nlargest(5).index\n",
    "\n",
    "# 136번 데이터를 포함하여 가장 유사한 상위 5개 데이터와 136번 데이터를 추출합니다.\n",
    "similar_data = df.iloc[most_similar_indices.tolist() + [136], :]\n",
    "\n",
    "# 결과를 출력합니다.\n",
    "print(similar_data)\n"
   ]
  },
  {
   "cell_type": "code",
   "execution_count": null,
   "metadata": {},
   "outputs": [],
   "source": [
    "# 선택할 인덱스 리스트\n",
    "index_list = [50, 167, 122, 206, 8, 136]\n",
    "\n",
    "# 주어진 인덱스에 해당하는 데이터프레임 선택\n",
    "selected_df = columns_for_similarity.iloc[index_list]\n",
    "\n",
    "# 결과 출력\n",
    "print(selected_df)"
   ]
  },
  {
   "cell_type": "code",
   "execution_count": null,
   "metadata": {},
   "outputs": [],
   "source": [
    "columns_for_similarity"
   ]
  },
  {
   "cell_type": "markdown",
   "metadata": {},
   "source": [
    "자격요건 코사인 유사도"
   ]
  },
  {
   "cell_type": "code",
   "execution_count": null,
   "metadata": {},
   "outputs": [],
   "source": [
    "from sklearn.metrics.pairwise import cosine_similarity\n",
    "\n",
    "# 12~40번, 42~50번 컬럼 선택\n",
    "selected_columns = df.iloc[:, 12:41].join(df.iloc[:, 42:51])\n",
    "\n",
    "# 코사인 유사도 계산\n",
    "cosine_sim1 = cosine_similarity(selected_columns)\n",
    "\n",
    "# 계산된 코사인 유사도를 새로운 데이터프레임에 저장합니다.\n",
    "cosine_sim_df1 = pd.DataFrame(cosine_sim1, columns=df.index, index=df.index)\n",
    "\n",
    "# 결과 출력\n",
    "cosine_sim_df1"
   ]
  },
  {
   "cell_type": "code",
   "execution_count": null,
   "metadata": {},
   "outputs": [],
   "source": [
    "# index 6번과 가장 유사한 5개의 데이터를 찾기\n",
    "similar_indices = cosine_sim_df1[6].sort_values(ascending=False)[1:6].index\n",
    "\n",
    "# 원본 데이터프레임에서 유사한 인덱스의 데이터를 선택\n",
    "similar_df = df.loc[similar_indices]\n",
    "\n",
    "# 결과 출력\n",
    "similar_df"
   ]
  },
  {
   "cell_type": "code",
   "execution_count": null,
   "metadata": {},
   "outputs": [],
   "source": [
    "# 선택할 인덱스 리스트\n",
    "index_list = [6, 192, 54, 64, 89, 211]\n",
    "\n",
    "# 주어진 인덱스에 해당하는 데이터프레임 선택\n",
    "selected_df = selected_columns.iloc[index_list]\n",
    "\n",
    "# 결과 출력\n",
    "selected_df"
   ]
  },
  {
   "cell_type": "code",
   "execution_count": null,
   "metadata": {},
   "outputs": [],
   "source": [
    "# index 6번과 가장 유사한 5개의 데이터를 찾기\n",
    "similar_indices = cosine_sim_df1[6].sort_values(ascending=False)[1:6].index\n",
    "\n",
    "# 원본 데이터프레임에서 유사한 인덱스의 데이터를 선택\n",
    "similar_df = df.loc[similar_indices]\n",
    "\n",
    "# 코사인 유사도 값 출력\n",
    "similar_cosine_similarity = cosine_sim_df1.loc[6, similar_indices]\n",
    "\n",
    "# 결과 출력\n",
    "print(similar_df)\n",
    "print(\"\\n코사인 유사도 값:\\n\", similar_cosine_similarity)"
   ]
  },
  {
   "cell_type": "code",
   "execution_count": null,
   "metadata": {},
   "outputs": [],
   "source": [
    "# 'Tool1' 컬럼과 'tool plus1' 컬럼 삭제\n",
    "df.drop(columns=['Tool1', 'tool plus1'], inplace=True)\n"
   ]
  }
 ],
 "metadata": {
  "kernelspec": {
   "display_name": "Python 3",
   "language": "python",
   "name": "python3"
  },
  "language_info": {
   "codemirror_mode": {
    "name": "ipython",
    "version": 3
   },
   "file_extension": ".py",
   "mimetype": "text/x-python",
   "name": "python",
   "nbconvert_exporter": "python",
   "pygments_lexer": "ipython3",
   "version": "3.11.5"
  }
 },
 "nbformat": 4,
 "nbformat_minor": 2
}
