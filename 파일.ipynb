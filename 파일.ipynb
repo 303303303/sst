{
 "cells": [
  {
   "cell_type": "code",
   "execution_count": 1,
   "metadata": {},
   "outputs": [],
   "source": [
    "# 라이브러리 불러오기\n",
    "import pandas as pd\n",
    "import numpy as np"
   ]
  },
  {
   "cell_type": "code",
   "execution_count": 2,
   "metadata": {},
   "outputs": [],
   "source": [
    "df1=pd.read_csv('/Users/jeong-yula/Desktop/streamlit/전처리통합최종.csv')"
   ]
  },
  {
   "cell_type": "code",
   "execution_count": 3,
   "metadata": {},
   "outputs": [],
   "source": [
    "columns_to_drop = [ 'DA', '통계', 'ML', 'DL', '시각화', '데이터 가공', '빅데이터', '파이프라인', '그로스해킹', '로그', '마케팅']\n",
    "\n",
    "# 컬럼들을 삭제합니다.\n",
    "df_cleaned = df1.drop(columns=columns_to_drop)"
   ]
  },
  {
   "cell_type": "code",
   "execution_count": null,
   "metadata": {},
   "outputs": [],
   "source": [
    "df1"
   ]
  },
  {
   "cell_type": "code",
   "execution_count": 5,
   "metadata": {},
   "outputs": [],
   "source": [
    "column_mapping = {\n",
    "    'DA plus': 'DA',\n",
    "    '통계 plus': '통계',\n",
    "    'ML plus': 'ML',\n",
    "    'DL plus': 'DL',\n",
    "    '시각화 plus': '시각화',\n",
    "    '데이터 가공 plus': '데이터 가공',\n",
    "    '빅데이터 plus': '빅데이터',\n",
    "    '클라우드 plus': '클라우드',\n",
    "    '파이프라인 plus': '파이프라인',\n",
    "    '그로스해킹 plus': '그로스해킹',\n",
    "    '로그 plus': '로그',\n",
    "    '마케팅 plus': '마케팅'\n",
    "}\n",
    "\n",
    "# 컬럼명을 변경합니다.\n",
    "df_renamed = df1.rename(columns=column_mapping)"
   ]
  },
  {
   "cell_type": "code",
   "execution_count": 6,
   "metadata": {},
   "outputs": [],
   "source": [
    "df_renamed.to_csv('hs_plus.csv')"
   ]
  },
  {
   "cell_type": "code",
   "execution_count": null,
   "metadata": {},
   "outputs": [],
   "source": []
  }
 ],
 "metadata": {
  "kernelspec": {
   "display_name": "base",
   "language": "python",
   "name": "python3"
  },
  "language_info": {
   "codemirror_mode": {
    "name": "ipython",
    "version": 3
   },
   "file_extension": ".py",
   "mimetype": "text/x-python",
   "name": "python",
   "nbconvert_exporter": "python",
   "pygments_lexer": "ipython3",
   "version": "3.11.5"
  }
 },
 "nbformat": 4,
 "nbformat_minor": 2
}
